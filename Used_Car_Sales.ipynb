{
  "cells": [
    {
      "cell_type": "markdown",
      "metadata": {
        "id": "JyRU-NES-lk3"
      },
      "source": [
        "# **USED CAR SELL PREDICTION**"
      ]
    },
    {
      "cell_type": "markdown",
      "metadata": {
        "id": "71mAx2Nw-lau"
      },
      "source": [
        "# **INTRODUCTION**"
      ]
    },
    {
      "cell_type": "markdown",
      "metadata": {
        "id": "eZPbV25x-lNv"
      },
      "source": [
        "**Overview**"
      ]
    },
    {
      "cell_type": "markdown",
      "metadata": {
        "id": "pHPmSk0--k_L"
      },
      "source": [
        "Finding a good car can sometimes be a hustle especially for first time car owners. This can be attributed to the fact that it is very easy to get conned into buying a vehicle that does not serve your purpose for the period you intend to own the vehicle. It might also be equally hard to resell your vehicle once you are done with it and you may end up selling it at a throw away price.\n",
        "It is equally hard for car dealers, especially second hand car dealers whose whole business is to buy and sell used cars as they face almost similar problems in selling second hand vehicles.\n",
        "It is therefore really important to understand how the second hand car market works before committing to purchase the car of your dreams.\n"
      ]
    },
    {
      "cell_type": "markdown",
      "metadata": {
        "id": "_k5LJao8-kyF"
      },
      "source": [
        "**Defining our question**"
      ]
    },
    {
      "cell_type": "markdown",
      "metadata": {
        "id": "W32aVkDI-km8"
      },
      "source": [
        "Create a model that predicts if a dealer will manage to sell a used car or not.\n",
        "\n"
      ]
    },
    {
      "cell_type": "markdown",
      "metadata": {
        "id": "eINP_SC7-kRO"
      },
      "source": [
        "**Metrics for success**"
      ]
    },
    {
      "cell_type": "markdown",
      "metadata": {
        "id": "BIOlNt81-kCJ"
      },
      "source": [
        "* Visualising the relationships between the sold/unsld cars  and various  features such as age, cholesterol level, resting ecg results etc.\n",
        "* Building a model that can determine whether a dealer will sell a used car or not.\n",
        "* Identifying the top features influencing  whether a dealer will sell a used car or not."
      ]
    },
    {
      "cell_type": "markdown",
      "metadata": {
        "id": "D5ERD51h-jwt"
      },
      "source": [
        "**Understanding context**"
      ]
    },
    {
      "cell_type": "markdown",
      "metadata": {
        "id": "wwJaV2h6-jac"
      },
      "source": [
        "A dealer may purchase a vehicle that is hard to resale which will adversely affect his business in terms of very low profits and sometimes losses which might end up putting him out of business.\n",
        "It is therefore really important for second hand car dealers to understand which vehicles to purchase for resale to increase his profit margins.\n"
      ]
    },
    {
      "cell_type": "markdown",
      "metadata": {
        "id": "chNdKXLi-jOi"
      },
      "source": [
        "**Recording experimental design**"
      ]
    },
    {
      "cell_type": "markdown",
      "metadata": {
        "id": "_cuhwfHs-jCU"
      },
      "source": [
        "\n",
        "\n",
        "*   Determine the main objectives\n",
        "*Load and preview the dataset.\n",
        "*Understand the data.\n",
        "*Prepare the dataset - Identify outliers, anomalies, duplicates, missing *values, and determine how deal with them etc.\n",
        "*Carry out univariate analysis, bivariate analysis, and modelling.\n",
        "*Challenge the solution.\n",
        "*Conclusion and recommendations\n",
        "\n",
        "\n"
      ]
    },
    {
      "cell_type": "markdown",
      "metadata": {
        "id": "KgA0U47z-i4j"
      },
      "source": [
        "**Relevance of data**"
      ]
    },
    {
      "cell_type": "markdown",
      "metadata": {
        "id": "1YRJfIoY-ioI"
      },
      "source": [
        "Used Car Data\n",
        "\n",
        "\n",
        "\n",
        "The dataset is from kaggle and can be accessed https://www.kaggle.com/datasets/shubham1kumar/usedcar-data. The data is from the USA Automobile industry for Indian used cars and it relevant for our analysis.\n",
        "The dataset has 7906 rows and 17 columns.\n",
        "\n",
        "The columns are:\n",
        "* Sales_ID (Sales ID)\n",
        "* name (Name of the used car)\n",
        "* year (Year of the car purchase)\n",
        "* selling_price (Current selling price for used car)\n",
        "* km_driven (Total km driven)\n",
        "* Region (Region where it is used)\n",
        "* State or Province (State or Province where it is used)\n",
        "* City (City where it is used)\n",
        "* fuel (Fuel type)\n",
        "* seller_type (Who is selling the car)\n",
        "* transmission (Transmission type of the car)\n",
        "* owner (Owner type)\n",
        "* mileage (Mileage of the car)\n",
        "* engine (engine power)\n",
        "* max_power (max power)\n",
        "* seats (Number of seats)\n",
        "* sold (used car sold or not)\n",
        "\n",
        "\n",
        "\n",
        "\n"
      ]
    },
    {
      "cell_type": "markdown",
      "metadata": {
        "id": "CwyonzkJ-iXK"
      },
      "source": [
        "# **Term Explanations**"
      ]
    },
    {
      "cell_type": "markdown",
      "metadata": {
        "id": "f-VPPSfjTTO2"
      },
      "source": [
        "* Torque\n",
        "\n",
        "Torque is a twisting force that speaks to the engine's rotational force and measures how much of that twisting force is available when an engine exerts itself\n",
        "\n",
        "A high torque enables efficient and energy-saving driving. A high engine power enables a car to accelerate quickly and reach a high top speed."
      ]
    },
    {
      "cell_type": "markdown",
      "metadata": {
        "id": "kfC7AhoF-hoG"
      },
      "source": [
        "# **DATA LOADING**"
      ]
    },
    {
      "cell_type": "markdown",
      "metadata": {
        "id": "4aWCufaf-hdf"
      },
      "source": [
        "**Importing our libraries**"
      ]
    },
    {
      "cell_type": "code",
      "execution_count": null,
      "metadata": {
        "id": "TVVuy6Kpcyd9"
      },
      "outputs": [],
      "source": [
        "import pandas as pd\n",
        "import numpy as np \n",
        "import matplotlib.pyplot as plt\n",
        "import seaborn as sns\n",
        "import warnings \n",
        "warnings.filterwarnings('ignore')"
      ]
    },
    {
      "cell_type": "code",
      "execution_count": null,
      "metadata": {
        "id": "aSROwQnTbkO8"
      },
      "outputs": [],
      "source": [
        "# loading the data \n",
        "data = pd.read_csv('UserCarData.csv')"
      ]
    },
    {
      "cell_type": "code",
      "execution_count": null,
      "metadata": {
        "colab": {
          "base_uri": "https://localhost:8080/"
        },
        "id": "coEyOoCuc2UC",
        "outputId": "17842792-6bb0-46ff-88c8-cf16704d58bb"
      },
      "outputs": [
        {
          "output_type": "execute_result",
          "data": {
            "text/plain": [
              "(7906, 18)"
            ]
          },
          "metadata": {},
          "execution_count": 4
        }
      ],
      "source": [
        "# checking the dimensions of the data\n",
        "\n",
        "data.shape\n",
        "# the data has 18 columns and 7906 rows"
      ]
    },
    {
      "cell_type": "markdown",
      "metadata": {
        "id": "WO-bIzlqVZe7"
      },
      "source": [
        " * The dataset has 18 columns and 7906 rows"
      ]
    },
    {
      "cell_type": "code",
      "execution_count": null,
      "metadata": {
        "colab": {
          "base_uri": "https://localhost:8080/",
          "height": 246
        },
        "id": "3zn43ZUcc-v5",
        "outputId": "3824b386-47fa-4d8b-f910-ed19ff95d769"
      },
      "outputs": [
        {
          "output_type": "execute_result",
          "data": {
            "text/plain": [
              "   Sales_ID    name  year  selling_price  km_driven Region  \\\n",
              "0         1  Maruti  2014         450000     145500   East   \n",
              "1         2   Skoda  2014         370000     120000   East   \n",
              "\n",
              "      State or Province           City    fuel seller_type transmission  \\\n",
              "0  District of Columbia     Washington  Diesel  Individual       Manual   \n",
              "1              New York  New York City  Diesel  Individual       Manual   \n",
              "\n",
              "          owner  mileage  engine  max_power               torque  seats sold  \n",
              "0   First_Owner    23.40    1248      74.00       190Nm@ 2000rpm      5    Y  \n",
              "1  Second_Owner    21.14    1498     103.52  250Nm@ 1500-2500rpm      5    Y  "
            ],
            "text/html": [
              "\n",
              "  <div id=\"df-83e97917-473c-4378-9fd5-b4f5f8a2aa75\">\n",
              "    <div class=\"colab-df-container\">\n",
              "      <div>\n",
              "<style scoped>\n",
              "    .dataframe tbody tr th:only-of-type {\n",
              "        vertical-align: middle;\n",
              "    }\n",
              "\n",
              "    .dataframe tbody tr th {\n",
              "        vertical-align: top;\n",
              "    }\n",
              "\n",
              "    .dataframe thead th {\n",
              "        text-align: right;\n",
              "    }\n",
              "</style>\n",
              "<table border=\"1\" class=\"dataframe\">\n",
              "  <thead>\n",
              "    <tr style=\"text-align: right;\">\n",
              "      <th></th>\n",
              "      <th>Sales_ID</th>\n",
              "      <th>name</th>\n",
              "      <th>year</th>\n",
              "      <th>selling_price</th>\n",
              "      <th>km_driven</th>\n",
              "      <th>Region</th>\n",
              "      <th>State or Province</th>\n",
              "      <th>City</th>\n",
              "      <th>fuel</th>\n",
              "      <th>seller_type</th>\n",
              "      <th>transmission</th>\n",
              "      <th>owner</th>\n",
              "      <th>mileage</th>\n",
              "      <th>engine</th>\n",
              "      <th>max_power</th>\n",
              "      <th>torque</th>\n",
              "      <th>seats</th>\n",
              "      <th>sold</th>\n",
              "    </tr>\n",
              "  </thead>\n",
              "  <tbody>\n",
              "    <tr>\n",
              "      <th>0</th>\n",
              "      <td>1</td>\n",
              "      <td>Maruti</td>\n",
              "      <td>2014</td>\n",
              "      <td>450000</td>\n",
              "      <td>145500</td>\n",
              "      <td>East</td>\n",
              "      <td>District of Columbia</td>\n",
              "      <td>Washington</td>\n",
              "      <td>Diesel</td>\n",
              "      <td>Individual</td>\n",
              "      <td>Manual</td>\n",
              "      <td>First_Owner</td>\n",
              "      <td>23.40</td>\n",
              "      <td>1248</td>\n",
              "      <td>74.00</td>\n",
              "      <td>190Nm@ 2000rpm</td>\n",
              "      <td>5</td>\n",
              "      <td>Y</td>\n",
              "    </tr>\n",
              "    <tr>\n",
              "      <th>1</th>\n",
              "      <td>2</td>\n",
              "      <td>Skoda</td>\n",
              "      <td>2014</td>\n",
              "      <td>370000</td>\n",
              "      <td>120000</td>\n",
              "      <td>East</td>\n",
              "      <td>New York</td>\n",
              "      <td>New York City</td>\n",
              "      <td>Diesel</td>\n",
              "      <td>Individual</td>\n",
              "      <td>Manual</td>\n",
              "      <td>Second_Owner</td>\n",
              "      <td>21.14</td>\n",
              "      <td>1498</td>\n",
              "      <td>103.52</td>\n",
              "      <td>250Nm@ 1500-2500rpm</td>\n",
              "      <td>5</td>\n",
              "      <td>Y</td>\n",
              "    </tr>\n",
              "  </tbody>\n",
              "</table>\n",
              "</div>\n",
              "      <button class=\"colab-df-convert\" onclick=\"convertToInteractive('df-83e97917-473c-4378-9fd5-b4f5f8a2aa75')\"\n",
              "              title=\"Convert this dataframe to an interactive table.\"\n",
              "              style=\"display:none;\">\n",
              "        \n",
              "  <svg xmlns=\"http://www.w3.org/2000/svg\" height=\"24px\"viewBox=\"0 0 24 24\"\n",
              "       width=\"24px\">\n",
              "    <path d=\"M0 0h24v24H0V0z\" fill=\"none\"/>\n",
              "    <path d=\"M18.56 5.44l.94 2.06.94-2.06 2.06-.94-2.06-.94-.94-2.06-.94 2.06-2.06.94zm-11 1L8.5 8.5l.94-2.06 2.06-.94-2.06-.94L8.5 2.5l-.94 2.06-2.06.94zm10 10l.94 2.06.94-2.06 2.06-.94-2.06-.94-.94-2.06-.94 2.06-2.06.94z\"/><path d=\"M17.41 7.96l-1.37-1.37c-.4-.4-.92-.59-1.43-.59-.52 0-1.04.2-1.43.59L10.3 9.45l-7.72 7.72c-.78.78-.78 2.05 0 2.83L4 21.41c.39.39.9.59 1.41.59.51 0 1.02-.2 1.41-.59l7.78-7.78 2.81-2.81c.8-.78.8-2.07 0-2.86zM5.41 20L4 18.59l7.72-7.72 1.47 1.35L5.41 20z\"/>\n",
              "  </svg>\n",
              "      </button>\n",
              "      \n",
              "  <style>\n",
              "    .colab-df-container {\n",
              "      display:flex;\n",
              "      flex-wrap:wrap;\n",
              "      gap: 12px;\n",
              "    }\n",
              "\n",
              "    .colab-df-convert {\n",
              "      background-color: #E8F0FE;\n",
              "      border: none;\n",
              "      border-radius: 50%;\n",
              "      cursor: pointer;\n",
              "      display: none;\n",
              "      fill: #1967D2;\n",
              "      height: 32px;\n",
              "      padding: 0 0 0 0;\n",
              "      width: 32px;\n",
              "    }\n",
              "\n",
              "    .colab-df-convert:hover {\n",
              "      background-color: #E2EBFA;\n",
              "      box-shadow: 0px 1px 2px rgba(60, 64, 67, 0.3), 0px 1px 3px 1px rgba(60, 64, 67, 0.15);\n",
              "      fill: #174EA6;\n",
              "    }\n",
              "\n",
              "    [theme=dark] .colab-df-convert {\n",
              "      background-color: #3B4455;\n",
              "      fill: #D2E3FC;\n",
              "    }\n",
              "\n",
              "    [theme=dark] .colab-df-convert:hover {\n",
              "      background-color: #434B5C;\n",
              "      box-shadow: 0px 1px 3px 1px rgba(0, 0, 0, 0.15);\n",
              "      filter: drop-shadow(0px 1px 2px rgba(0, 0, 0, 0.3));\n",
              "      fill: #FFFFFF;\n",
              "    }\n",
              "  </style>\n",
              "\n",
              "      <script>\n",
              "        const buttonEl =\n",
              "          document.querySelector('#df-83e97917-473c-4378-9fd5-b4f5f8a2aa75 button.colab-df-convert');\n",
              "        buttonEl.style.display =\n",
              "          google.colab.kernel.accessAllowed ? 'block' : 'none';\n",
              "\n",
              "        async function convertToInteractive(key) {\n",
              "          const element = document.querySelector('#df-83e97917-473c-4378-9fd5-b4f5f8a2aa75');\n",
              "          const dataTable =\n",
              "            await google.colab.kernel.invokeFunction('convertToInteractive',\n",
              "                                                     [key], {});\n",
              "          if (!dataTable) return;\n",
              "\n",
              "          const docLinkHtml = 'Like what you see? Visit the ' +\n",
              "            '<a target=\"_blank\" href=https://colab.research.google.com/notebooks/data_table.ipynb>data table notebook</a>'\n",
              "            + ' to learn more about interactive tables.';\n",
              "          element.innerHTML = '';\n",
              "          dataTable['output_type'] = 'display_data';\n",
              "          await google.colab.output.renderOutput(dataTable, element);\n",
              "          const docLink = document.createElement('div');\n",
              "          docLink.innerHTML = docLinkHtml;\n",
              "          element.appendChild(docLink);\n",
              "        }\n",
              "      </script>\n",
              "    </div>\n",
              "  </div>\n",
              "  "
            ]
          },
          "metadata": {},
          "execution_count": 5
        }
      ],
      "source": [
        "# previewing the first 2 rows \n",
        "data.head(2)"
      ]
    },
    {
      "cell_type": "code",
      "execution_count": null,
      "metadata": {
        "colab": {
          "base_uri": "https://localhost:8080/",
          "height": 263
        },
        "id": "k2NeaQTNdE7X",
        "outputId": "587b33b6-6c5c-4124-8287-758fbed7057b"
      },
      "outputs": [
        {
          "output_type": "execute_result",
          "data": {
            "text/plain": [
              "      Sales_ID  name  year  selling_price  km_driven Region State or Province  \\\n",
              "7904      8127  Tata  2013         290000      25000   East     Massachusetts   \n",
              "7905      8128  Tata  2013         290000      25000   East             Maine   \n",
              "\n",
              "           City    fuel seller_type transmission        owner  mileage  \\\n",
              "7904  Lunenburg  Diesel  Individual       Manual  First_Owner    23.57   \n",
              "7905    Augusta  Diesel  Individual       Manual  First_Owner    23.57   \n",
              "\n",
              "      engine  max_power               torque  seats sold  \n",
              "7904    1396       70.0  140Nm@ 1800-3000rpm      5    N  \n",
              "7905    1396       70.0  140Nm@ 1800-3000rpm      5    N  "
            ],
            "text/html": [
              "\n",
              "  <div id=\"df-75df5aac-9c42-450a-b6cf-3290fe23b547\">\n",
              "    <div class=\"colab-df-container\">\n",
              "      <div>\n",
              "<style scoped>\n",
              "    .dataframe tbody tr th:only-of-type {\n",
              "        vertical-align: middle;\n",
              "    }\n",
              "\n",
              "    .dataframe tbody tr th {\n",
              "        vertical-align: top;\n",
              "    }\n",
              "\n",
              "    .dataframe thead th {\n",
              "        text-align: right;\n",
              "    }\n",
              "</style>\n",
              "<table border=\"1\" class=\"dataframe\">\n",
              "  <thead>\n",
              "    <tr style=\"text-align: right;\">\n",
              "      <th></th>\n",
              "      <th>Sales_ID</th>\n",
              "      <th>name</th>\n",
              "      <th>year</th>\n",
              "      <th>selling_price</th>\n",
              "      <th>km_driven</th>\n",
              "      <th>Region</th>\n",
              "      <th>State or Province</th>\n",
              "      <th>City</th>\n",
              "      <th>fuel</th>\n",
              "      <th>seller_type</th>\n",
              "      <th>transmission</th>\n",
              "      <th>owner</th>\n",
              "      <th>mileage</th>\n",
              "      <th>engine</th>\n",
              "      <th>max_power</th>\n",
              "      <th>torque</th>\n",
              "      <th>seats</th>\n",
              "      <th>sold</th>\n",
              "    </tr>\n",
              "  </thead>\n",
              "  <tbody>\n",
              "    <tr>\n",
              "      <th>7904</th>\n",
              "      <td>8127</td>\n",
              "      <td>Tata</td>\n",
              "      <td>2013</td>\n",
              "      <td>290000</td>\n",
              "      <td>25000</td>\n",
              "      <td>East</td>\n",
              "      <td>Massachusetts</td>\n",
              "      <td>Lunenburg</td>\n",
              "      <td>Diesel</td>\n",
              "      <td>Individual</td>\n",
              "      <td>Manual</td>\n",
              "      <td>First_Owner</td>\n",
              "      <td>23.57</td>\n",
              "      <td>1396</td>\n",
              "      <td>70.0</td>\n",
              "      <td>140Nm@ 1800-3000rpm</td>\n",
              "      <td>5</td>\n",
              "      <td>N</td>\n",
              "    </tr>\n",
              "    <tr>\n",
              "      <th>7905</th>\n",
              "      <td>8128</td>\n",
              "      <td>Tata</td>\n",
              "      <td>2013</td>\n",
              "      <td>290000</td>\n",
              "      <td>25000</td>\n",
              "      <td>East</td>\n",
              "      <td>Maine</td>\n",
              "      <td>Augusta</td>\n",
              "      <td>Diesel</td>\n",
              "      <td>Individual</td>\n",
              "      <td>Manual</td>\n",
              "      <td>First_Owner</td>\n",
              "      <td>23.57</td>\n",
              "      <td>1396</td>\n",
              "      <td>70.0</td>\n",
              "      <td>140Nm@ 1800-3000rpm</td>\n",
              "      <td>5</td>\n",
              "      <td>N</td>\n",
              "    </tr>\n",
              "  </tbody>\n",
              "</table>\n",
              "</div>\n",
              "      <button class=\"colab-df-convert\" onclick=\"convertToInteractive('df-75df5aac-9c42-450a-b6cf-3290fe23b547')\"\n",
              "              title=\"Convert this dataframe to an interactive table.\"\n",
              "              style=\"display:none;\">\n",
              "        \n",
              "  <svg xmlns=\"http://www.w3.org/2000/svg\" height=\"24px\"viewBox=\"0 0 24 24\"\n",
              "       width=\"24px\">\n",
              "    <path d=\"M0 0h24v24H0V0z\" fill=\"none\"/>\n",
              "    <path d=\"M18.56 5.44l.94 2.06.94-2.06 2.06-.94-2.06-.94-.94-2.06-.94 2.06-2.06.94zm-11 1L8.5 8.5l.94-2.06 2.06-.94-2.06-.94L8.5 2.5l-.94 2.06-2.06.94zm10 10l.94 2.06.94-2.06 2.06-.94-2.06-.94-.94-2.06-.94 2.06-2.06.94z\"/><path d=\"M17.41 7.96l-1.37-1.37c-.4-.4-.92-.59-1.43-.59-.52 0-1.04.2-1.43.59L10.3 9.45l-7.72 7.72c-.78.78-.78 2.05 0 2.83L4 21.41c.39.39.9.59 1.41.59.51 0 1.02-.2 1.41-.59l7.78-7.78 2.81-2.81c.8-.78.8-2.07 0-2.86zM5.41 20L4 18.59l7.72-7.72 1.47 1.35L5.41 20z\"/>\n",
              "  </svg>\n",
              "      </button>\n",
              "      \n",
              "  <style>\n",
              "    .colab-df-container {\n",
              "      display:flex;\n",
              "      flex-wrap:wrap;\n",
              "      gap: 12px;\n",
              "    }\n",
              "\n",
              "    .colab-df-convert {\n",
              "      background-color: #E8F0FE;\n",
              "      border: none;\n",
              "      border-radius: 50%;\n",
              "      cursor: pointer;\n",
              "      display: none;\n",
              "      fill: #1967D2;\n",
              "      height: 32px;\n",
              "      padding: 0 0 0 0;\n",
              "      width: 32px;\n",
              "    }\n",
              "\n",
              "    .colab-df-convert:hover {\n",
              "      background-color: #E2EBFA;\n",
              "      box-shadow: 0px 1px 2px rgba(60, 64, 67, 0.3), 0px 1px 3px 1px rgba(60, 64, 67, 0.15);\n",
              "      fill: #174EA6;\n",
              "    }\n",
              "\n",
              "    [theme=dark] .colab-df-convert {\n",
              "      background-color: #3B4455;\n",
              "      fill: #D2E3FC;\n",
              "    }\n",
              "\n",
              "    [theme=dark] .colab-df-convert:hover {\n",
              "      background-color: #434B5C;\n",
              "      box-shadow: 0px 1px 3px 1px rgba(0, 0, 0, 0.15);\n",
              "      filter: drop-shadow(0px 1px 2px rgba(0, 0, 0, 0.3));\n",
              "      fill: #FFFFFF;\n",
              "    }\n",
              "  </style>\n",
              "\n",
              "      <script>\n",
              "        const buttonEl =\n",
              "          document.querySelector('#df-75df5aac-9c42-450a-b6cf-3290fe23b547 button.colab-df-convert');\n",
              "        buttonEl.style.display =\n",
              "          google.colab.kernel.accessAllowed ? 'block' : 'none';\n",
              "\n",
              "        async function convertToInteractive(key) {\n",
              "          const element = document.querySelector('#df-75df5aac-9c42-450a-b6cf-3290fe23b547');\n",
              "          const dataTable =\n",
              "            await google.colab.kernel.invokeFunction('convertToInteractive',\n",
              "                                                     [key], {});\n",
              "          if (!dataTable) return;\n",
              "\n",
              "          const docLinkHtml = 'Like what you see? Visit the ' +\n",
              "            '<a target=\"_blank\" href=https://colab.research.google.com/notebooks/data_table.ipynb>data table notebook</a>'\n",
              "            + ' to learn more about interactive tables.';\n",
              "          element.innerHTML = '';\n",
              "          dataTable['output_type'] = 'display_data';\n",
              "          await google.colab.output.renderOutput(dataTable, element);\n",
              "          const docLink = document.createElement('div');\n",
              "          docLink.innerHTML = docLinkHtml;\n",
              "          element.appendChild(docLink);\n",
              "        }\n",
              "      </script>\n",
              "    </div>\n",
              "  </div>\n",
              "  "
            ]
          },
          "metadata": {},
          "execution_count": 6
        }
      ],
      "source": [
        "# preview the last 2 rows\n",
        "data.tail(2)"
      ]
    },
    {
      "cell_type": "code",
      "execution_count": null,
      "metadata": {
        "colab": {
          "base_uri": "https://localhost:8080/"
        },
        "id": "AFerdrUAeMNu",
        "outputId": "26886e2c-069c-48cc-c0a6-e941a00afb22"
      },
      "outputs": [
        {
          "output_type": "execute_result",
          "data": {
            "text/plain": [
              "['Sales_ID',\n",
              " 'name',\n",
              " 'year',\n",
              " 'selling_price',\n",
              " 'km_driven',\n",
              " 'Region',\n",
              " 'State or Province',\n",
              " 'City',\n",
              " 'fuel',\n",
              " 'seller_type',\n",
              " 'transmission',\n",
              " 'owner',\n",
              " 'mileage',\n",
              " 'engine',\n",
              " 'max_power',\n",
              " 'torque',\n",
              " 'seats',\n",
              " 'sold']"
            ]
          },
          "metadata": {},
          "execution_count": 7
        }
      ],
      "source": [
        "# checking the column names \n",
        "data.columns.to_list()"
      ]
    },
    {
      "cell_type": "code",
      "execution_count": null,
      "metadata": {
        "colab": {
          "base_uri": "https://localhost:8080/"
        },
        "id": "Z9Ff7bRKdKTb",
        "outputId": "0b5fc3a1-f19f-4f2d-ae94-2c506cce1a20"
      },
      "outputs": [
        {
          "output_type": "execute_result",
          "data": {
            "text/plain": [
              "Sales_ID               int64\n",
              "name                  object\n",
              "year                   int64\n",
              "selling_price          int64\n",
              "km_driven              int64\n",
              "Region                object\n",
              "State or Province     object\n",
              "City                  object\n",
              "fuel                  object\n",
              "seller_type           object\n",
              "transmission          object\n",
              "owner                 object\n",
              "mileage              float64\n",
              "engine                 int64\n",
              "max_power            float64\n",
              "torque                object\n",
              "seats                  int64\n",
              "sold                  object\n",
              "dtype: object"
            ]
          },
          "metadata": {},
          "execution_count": 8
        }
      ],
      "source": [
        "# checking the data types \n",
        "data.dtypes \n",
        "# the data is in integers, objects and floats "
      ]
    },
    {
      "cell_type": "markdown",
      "metadata": {
        "id": "3TKD5ExCV6xA"
      },
      "source": [
        "* The data is in integers, objects and floats "
      ]
    },
    {
      "cell_type": "code",
      "execution_count": null,
      "metadata": {
        "colab": {
          "base_uri": "https://localhost:8080/",
          "height": 300
        },
        "id": "saOKCmWDe8gV",
        "outputId": "d5005ad2-2398-4594-acde-847633feeea2"
      },
      "outputs": [
        {
          "output_type": "execute_result",
          "data": {
            "text/plain": [
              "          Sales_ID         year  selling_price     km_driven      mileage  \\\n",
              "count  7906.000000  7906.000000   7.906000e+03  7.906000e+03  7906.000000   \n",
              "mean   4070.106248  2013.983936   6.498137e+05  6.918866e+04    19.419861   \n",
              "std    2345.770159     3.863695   8.135827e+05  5.679230e+04     4.036263   \n",
              "min       1.000000  1994.000000   2.999900e+04  1.000000e+00     0.000000   \n",
              "25%    2037.250000  2012.000000   2.700000e+05  3.500000e+04    16.780000   \n",
              "50%    4076.500000  2015.000000   4.500000e+05  6.000000e+04    19.300000   \n",
              "75%    6102.000000  2017.000000   6.900000e+05  9.542500e+04    22.320000   \n",
              "max    8128.000000  2020.000000   1.000000e+07  2.360457e+06    42.000000   \n",
              "\n",
              "            engine    max_power        seats  \n",
              "count  7906.000000  7906.000000  7906.000000  \n",
              "mean   1458.708829    91.587374     5.416393  \n",
              "std     503.893057    35.747216     0.959208  \n",
              "min     624.000000    32.800000     2.000000  \n",
              "25%    1197.000000    68.050000     5.000000  \n",
              "50%    1248.000000    82.000000     5.000000  \n",
              "75%    1582.000000   102.000000     5.000000  \n",
              "max    3604.000000   400.000000    14.000000  "
            ],
            "text/html": [
              "\n",
              "  <div id=\"df-e79932cb-2af2-4008-a825-aee8ae005a1a\">\n",
              "    <div class=\"colab-df-container\">\n",
              "      <div>\n",
              "<style scoped>\n",
              "    .dataframe tbody tr th:only-of-type {\n",
              "        vertical-align: middle;\n",
              "    }\n",
              "\n",
              "    .dataframe tbody tr th {\n",
              "        vertical-align: top;\n",
              "    }\n",
              "\n",
              "    .dataframe thead th {\n",
              "        text-align: right;\n",
              "    }\n",
              "</style>\n",
              "<table border=\"1\" class=\"dataframe\">\n",
              "  <thead>\n",
              "    <tr style=\"text-align: right;\">\n",
              "      <th></th>\n",
              "      <th>Sales_ID</th>\n",
              "      <th>year</th>\n",
              "      <th>selling_price</th>\n",
              "      <th>km_driven</th>\n",
              "      <th>mileage</th>\n",
              "      <th>engine</th>\n",
              "      <th>max_power</th>\n",
              "      <th>seats</th>\n",
              "    </tr>\n",
              "  </thead>\n",
              "  <tbody>\n",
              "    <tr>\n",
              "      <th>count</th>\n",
              "      <td>7906.000000</td>\n",
              "      <td>7906.000000</td>\n",
              "      <td>7.906000e+03</td>\n",
              "      <td>7.906000e+03</td>\n",
              "      <td>7906.000000</td>\n",
              "      <td>7906.000000</td>\n",
              "      <td>7906.000000</td>\n",
              "      <td>7906.000000</td>\n",
              "    </tr>\n",
              "    <tr>\n",
              "      <th>mean</th>\n",
              "      <td>4070.106248</td>\n",
              "      <td>2013.983936</td>\n",
              "      <td>6.498137e+05</td>\n",
              "      <td>6.918866e+04</td>\n",
              "      <td>19.419861</td>\n",
              "      <td>1458.708829</td>\n",
              "      <td>91.587374</td>\n",
              "      <td>5.416393</td>\n",
              "    </tr>\n",
              "    <tr>\n",
              "      <th>std</th>\n",
              "      <td>2345.770159</td>\n",
              "      <td>3.863695</td>\n",
              "      <td>8.135827e+05</td>\n",
              "      <td>5.679230e+04</td>\n",
              "      <td>4.036263</td>\n",
              "      <td>503.893057</td>\n",
              "      <td>35.747216</td>\n",
              "      <td>0.959208</td>\n",
              "    </tr>\n",
              "    <tr>\n",
              "      <th>min</th>\n",
              "      <td>1.000000</td>\n",
              "      <td>1994.000000</td>\n",
              "      <td>2.999900e+04</td>\n",
              "      <td>1.000000e+00</td>\n",
              "      <td>0.000000</td>\n",
              "      <td>624.000000</td>\n",
              "      <td>32.800000</td>\n",
              "      <td>2.000000</td>\n",
              "    </tr>\n",
              "    <tr>\n",
              "      <th>25%</th>\n",
              "      <td>2037.250000</td>\n",
              "      <td>2012.000000</td>\n",
              "      <td>2.700000e+05</td>\n",
              "      <td>3.500000e+04</td>\n",
              "      <td>16.780000</td>\n",
              "      <td>1197.000000</td>\n",
              "      <td>68.050000</td>\n",
              "      <td>5.000000</td>\n",
              "    </tr>\n",
              "    <tr>\n",
              "      <th>50%</th>\n",
              "      <td>4076.500000</td>\n",
              "      <td>2015.000000</td>\n",
              "      <td>4.500000e+05</td>\n",
              "      <td>6.000000e+04</td>\n",
              "      <td>19.300000</td>\n",
              "      <td>1248.000000</td>\n",
              "      <td>82.000000</td>\n",
              "      <td>5.000000</td>\n",
              "    </tr>\n",
              "    <tr>\n",
              "      <th>75%</th>\n",
              "      <td>6102.000000</td>\n",
              "      <td>2017.000000</td>\n",
              "      <td>6.900000e+05</td>\n",
              "      <td>9.542500e+04</td>\n",
              "      <td>22.320000</td>\n",
              "      <td>1582.000000</td>\n",
              "      <td>102.000000</td>\n",
              "      <td>5.000000</td>\n",
              "    </tr>\n",
              "    <tr>\n",
              "      <th>max</th>\n",
              "      <td>8128.000000</td>\n",
              "      <td>2020.000000</td>\n",
              "      <td>1.000000e+07</td>\n",
              "      <td>2.360457e+06</td>\n",
              "      <td>42.000000</td>\n",
              "      <td>3604.000000</td>\n",
              "      <td>400.000000</td>\n",
              "      <td>14.000000</td>\n",
              "    </tr>\n",
              "  </tbody>\n",
              "</table>\n",
              "</div>\n",
              "      <button class=\"colab-df-convert\" onclick=\"convertToInteractive('df-e79932cb-2af2-4008-a825-aee8ae005a1a')\"\n",
              "              title=\"Convert this dataframe to an interactive table.\"\n",
              "              style=\"display:none;\">\n",
              "        \n",
              "  <svg xmlns=\"http://www.w3.org/2000/svg\" height=\"24px\"viewBox=\"0 0 24 24\"\n",
              "       width=\"24px\">\n",
              "    <path d=\"M0 0h24v24H0V0z\" fill=\"none\"/>\n",
              "    <path d=\"M18.56 5.44l.94 2.06.94-2.06 2.06-.94-2.06-.94-.94-2.06-.94 2.06-2.06.94zm-11 1L8.5 8.5l.94-2.06 2.06-.94-2.06-.94L8.5 2.5l-.94 2.06-2.06.94zm10 10l.94 2.06.94-2.06 2.06-.94-2.06-.94-.94-2.06-.94 2.06-2.06.94z\"/><path d=\"M17.41 7.96l-1.37-1.37c-.4-.4-.92-.59-1.43-.59-.52 0-1.04.2-1.43.59L10.3 9.45l-7.72 7.72c-.78.78-.78 2.05 0 2.83L4 21.41c.39.39.9.59 1.41.59.51 0 1.02-.2 1.41-.59l7.78-7.78 2.81-2.81c.8-.78.8-2.07 0-2.86zM5.41 20L4 18.59l7.72-7.72 1.47 1.35L5.41 20z\"/>\n",
              "  </svg>\n",
              "      </button>\n",
              "      \n",
              "  <style>\n",
              "    .colab-df-container {\n",
              "      display:flex;\n",
              "      flex-wrap:wrap;\n",
              "      gap: 12px;\n",
              "    }\n",
              "\n",
              "    .colab-df-convert {\n",
              "      background-color: #E8F0FE;\n",
              "      border: none;\n",
              "      border-radius: 50%;\n",
              "      cursor: pointer;\n",
              "      display: none;\n",
              "      fill: #1967D2;\n",
              "      height: 32px;\n",
              "      padding: 0 0 0 0;\n",
              "      width: 32px;\n",
              "    }\n",
              "\n",
              "    .colab-df-convert:hover {\n",
              "      background-color: #E2EBFA;\n",
              "      box-shadow: 0px 1px 2px rgba(60, 64, 67, 0.3), 0px 1px 3px 1px rgba(60, 64, 67, 0.15);\n",
              "      fill: #174EA6;\n",
              "    }\n",
              "\n",
              "    [theme=dark] .colab-df-convert {\n",
              "      background-color: #3B4455;\n",
              "      fill: #D2E3FC;\n",
              "    }\n",
              "\n",
              "    [theme=dark] .colab-df-convert:hover {\n",
              "      background-color: #434B5C;\n",
              "      box-shadow: 0px 1px 3px 1px rgba(0, 0, 0, 0.15);\n",
              "      filter: drop-shadow(0px 1px 2px rgba(0, 0, 0, 0.3));\n",
              "      fill: #FFFFFF;\n",
              "    }\n",
              "  </style>\n",
              "\n",
              "      <script>\n",
              "        const buttonEl =\n",
              "          document.querySelector('#df-e79932cb-2af2-4008-a825-aee8ae005a1a button.colab-df-convert');\n",
              "        buttonEl.style.display =\n",
              "          google.colab.kernel.accessAllowed ? 'block' : 'none';\n",
              "\n",
              "        async function convertToInteractive(key) {\n",
              "          const element = document.querySelector('#df-e79932cb-2af2-4008-a825-aee8ae005a1a');\n",
              "          const dataTable =\n",
              "            await google.colab.kernel.invokeFunction('convertToInteractive',\n",
              "                                                     [key], {});\n",
              "          if (!dataTable) return;\n",
              "\n",
              "          const docLinkHtml = 'Like what you see? Visit the ' +\n",
              "            '<a target=\"_blank\" href=https://colab.research.google.com/notebooks/data_table.ipynb>data table notebook</a>'\n",
              "            + ' to learn more about interactive tables.';\n",
              "          element.innerHTML = '';\n",
              "          dataTable['output_type'] = 'display_data';\n",
              "          await google.colab.output.renderOutput(dataTable, element);\n",
              "          const docLink = document.createElement('div');\n",
              "          docLink.innerHTML = docLinkHtml;\n",
              "          element.appendChild(docLink);\n",
              "        }\n",
              "      </script>\n",
              "    </div>\n",
              "  </div>\n",
              "  "
            ]
          },
          "metadata": {},
          "execution_count": 9
        }
      ],
      "source": [
        "# a brief description of the data \n",
        "data.describe()"
      ]
    },
    {
      "cell_type": "markdown",
      "metadata": {
        "id": "x575KoprgFMV"
      },
      "source": [
        "# **DATA CLEANING**"
      ]
    },
    {
      "cell_type": "markdown",
      "metadata": {
        "id": "5NkHX2LXWQxS"
      },
      "source": [
        "***Missing Values***"
      ]
    },
    {
      "cell_type": "code",
      "execution_count": null,
      "metadata": {
        "colab": {
          "base_uri": "https://localhost:8080/"
        },
        "id": "QUIgUo9vgL-0",
        "outputId": "131b261f-b74f-4b84-fc23-ae77c83305b2"
      },
      "outputs": [
        {
          "output_type": "execute_result",
          "data": {
            "text/plain": [
              "Sales_ID             0\n",
              "name                 0\n",
              "year                 0\n",
              "selling_price        0\n",
              "km_driven            0\n",
              "Region               0\n",
              "State or Province    0\n",
              "City                 0\n",
              "fuel                 0\n",
              "seller_type          0\n",
              "transmission         0\n",
              "owner                0\n",
              "mileage              0\n",
              "engine               0\n",
              "max_power            0\n",
              "torque               0\n",
              "seats                0\n",
              "sold                 0\n",
              "dtype: int64"
            ]
          },
          "metadata": {},
          "execution_count": 10
        }
      ],
      "source": [
        "# checking for missing values\n",
        "data.isnull().sum()\n"
      ]
    },
    {
      "cell_type": "markdown",
      "metadata": {
        "id": "uIc4dNIYWW56"
      },
      "source": [
        "* There are no missing values in our dataset"
      ]
    },
    {
      "cell_type": "markdown",
      "metadata": {
        "id": "Te-Vr_PxaXZl"
      },
      "source": [
        "***Duplicates***"
      ]
    },
    {
      "cell_type": "code",
      "execution_count": null,
      "metadata": {
        "colab": {
          "base_uri": "https://localhost:8080/"
        },
        "id": "E819XJM0gIKs",
        "outputId": "fc242af0-cbb4-44ba-8156-ef99a3a5facf"
      },
      "outputs": [
        {
          "output_type": "execute_result",
          "data": {
            "text/plain": [
              "0"
            ]
          },
          "metadata": {},
          "execution_count": 11
        }
      ],
      "source": [
        "# checking for duplicated values \n",
        "data.duplicated().sum()\n",
        "# there are no duplicated values "
      ]
    },
    {
      "cell_type": "markdown",
      "metadata": {
        "id": "7jX0yGVAWh1r"
      },
      "source": [
        "* There are no duplicates in our data"
      ]
    },
    {
      "cell_type": "markdown",
      "metadata": {
        "id": "DPyK0zLhXH34"
      },
      "source": [
        "***outliers***"
      ]
    },
    {
      "cell_type": "code",
      "execution_count": null,
      "metadata": {
        "colab": {
          "base_uri": "https://localhost:8080/"
        },
        "id": "dGqMZyKlg63S",
        "outputId": "2760823a-9807-411d-f4e8-6dace889756e"
      },
      "outputs": [
        {
          "output_type": "execute_result",
          "data": {
            "text/plain": [
              "Sales_ID                0\n",
              "name                    0\n",
              "year                  165\n",
              "selling_price         598\n",
              "km_driven             194\n",
              "Region                  0\n",
              "State or Province       0\n",
              "City                    0\n",
              "fuel                    0\n",
              "seller_type             0\n",
              "transmission            0\n",
              "owner                   0\n",
              "mileage                24\n",
              "engine               1183\n",
              "max_power             564\n",
              "torque                  0\n",
              "seats                1652\n",
              "sold                    0\n",
              "dtype: int64"
            ]
          },
          "metadata": {},
          "execution_count": 12
        }
      ],
      "source": [
        "# checking for outliers \n",
        "q1 = data.quantile(0.25)\n",
        "q3 = data.quantile(0.75)\n",
        "iqr = q3 - q1\n",
        "outlier = data[((data < (q1 - 1.5*iqr))|(data > (q3 + 1.5*iqr)))]\n",
        "outlier.count()\n",
        "# although there are outliers in some of the columns, I choose not to do anything to them, since they all make perfect sense in the data."
      ]
    },
    {
      "cell_type": "code",
      "execution_count": null,
      "metadata": {
        "colab": {
          "base_uri": "https://localhost:8080/",
          "height": 442
        },
        "id": "cyed8xbtGRpM",
        "outputId": "ce49e54e-c324-410f-c7e2-fcf638bc4592"
      },
      "outputs": [
        {
          "output_type": "display_data",
          "data": {
            "text/plain": [
              "<Figure size 1080x504 with 6 Axes>"
            ],
            "image/png": "[encoded data removed]"
          },
          "metadata": {
            "needs_background": "light"
          }
        }
      ],
      "source": [
        "# visualising the outliers \n",
        "types = data[['year','selling_price','km_driven','mileage','engine','max_power','seats']].columns\n",
        "fig, axes = plt.subplots(nrows = 2, ncols = 3, figsize = (15,7))\n",
        "for col, ax in zip(types, axes.flatten()):\n",
        "  sns.boxplot(data[col], ax = ax);"
      ]
    },
    {
      "cell_type": "markdown",
      "metadata": {
        "id": "qTWSK3q_W1vB"
      },
      "source": [
        "There is a profusion of outliers in our dataset but we won't remove these outliers as most of which are likely due to natural variability in our data also we want to see how it will affect our model"
      ]
    },
    {
      "cell_type": "markdown",
      "metadata": {
        "id": "gNUxw4QHJ67X"
      },
      "source": [
        "# **EXPLORATORY DATA ANALYSIS**"
      ]
    },
    {
      "cell_type": "markdown",
      "metadata": {
        "id": "2kVXJg81J_rE"
      },
      "source": [
        "* **Univariate analysis** "
      ]
    },
    {
      "cell_type": "markdown",
      "metadata": {
        "id": "dGsB5PcWdvyE"
      },
      "source": [
        "***1.No of sold/unsold cars***"
      ]
    },
    {
      "cell_type": "code",
      "execution_count": null,
      "metadata": {
        "colab": {
          "base_uri": "https://localhost:8080/",
          "height": 293
        },
        "id": "DoqzQ2yBKtJV",
        "outputId": "50899c44-255d-47f0-cd92-e17d6b2e7cf8"
      },
      "outputs": [
        {
          "output_type": "display_data",
          "data": {
            "text/plain": [
              "<Figure size 432x288 with 1 Axes>"
            ],
            "image/png": "[encoded data removed]"
          },
          "metadata": {
            "needs_background": "light"
          }
        }
      ],
      "source": [
        "# visulising if a vehicle is sold or not.\n",
        "\n",
        "data['sold'].value_counts().plot(kind = 'bar');\n",
        "plt.title('No of sold / unsold cars')\n",
        "plt.xlabel('sold or not')\n",
        "plt.ylabel('count')\n",
        "plt.show()\n",
        "\n",
        "# from this we can see that there is a large class imbalance.\n",
        "# under-sampling of the 'no sale' or over-sampling of the 'yes sale' will have to be done before modelling."
      ]
    },
    {
      "cell_type": "markdown",
      "metadata": {
        "id": "tBWHDbh7d5wX"
      },
      "source": [
        "* There are almost three times as much as unsold cars as compared to sold cars"
      ]
    },
    {
      "cell_type": "markdown",
      "metadata": {
        "id": "NMaPJwmogkZ9"
      },
      "source": [
        "***2.No of vehicle per feature***"
      ]
    },
    {
      "cell_type": "code",
      "execution_count": null,
      "metadata": {
        "colab": {
          "base_uri": "https://localhost:8080/"
        },
        "id": "Sgqi4wPneR1c",
        "outputId": "0df429cd-e137-4aad-94c3-2394f3c76cd0"
      },
      "outputs": [
        {
          "output_type": "execute_result",
          "data": {
            "text/plain": [
              "Region                  4\n",
              "State or Province      49\n",
              "City                 1310\n",
              "fuel                    4\n",
              "seller_type             3\n",
              "transmission            2\n",
              "owner                   5\n",
              "seats                   9\n",
              "name                   31\n",
              "dtype: int64"
            ]
          },
          "metadata": {},
          "execution_count": 15
        }
      ],
      "source": [
        "data[['Region','State or Province','City','fuel','seller_type','transmission','owner','seats','name']].nunique()"
      ]
    },
    {
      "cell_type": "code",
      "execution_count": null,
      "metadata": {
        "colab": {
          "base_uri": "https://localhost:8080/",
          "height": 729
        },
        "id": "OAkTsxLA6UUy",
        "outputId": "b4d7c25a-ec49-49c8-945a-4bf5152c0f3c"
      },
      "outputs": [
        {
          "output_type": "display_data",
          "data": {
            "text/plain": [
              "<Figure size 1080x720 with 6 Axes>"
            ],
            "image/png": "[encoded data removed]"
          },
          "metadata": {
            "needs_background": "light"
          }
        }
      ],
      "source": [
        "fig,axes = plt.subplots(nrows=2, ncols=3, figsize=(15,10))\n",
        "cols = ['fuel', 'seller_type', 'transmission', 'owner', 'seats']\n",
        "titles =['fuel_type', 'seller_type', 'transmission', 'owner', 'seat_count']\n",
        "count=0\n",
        "ilist = [0,1,2,0,1]\n",
        "a=None\n",
        "for col in cols:\n",
        "   if count <=2:\n",
        "     a=0\n",
        "   else:\n",
        "     a=1\n",
        "   data[col].value_counts().plot.bar(ax=axes[a, ilist[count]])\n",
        "   axes[a, ilist[count]].set_title(titles[count])\n",
        "   count +=1\n",
        "fig.tight_layout();"
      ]
    },
    {
      "cell_type": "markdown",
      "metadata": {
        "id": "Q_WBist-mwP3"
      },
      "source": [
        "\n",
        "\n",
        "*   Diesel vehicles were more than other vehicles \n",
        "*.   Most vehicles were owned by individuals \n",
        "*.   Most vehicles were manual vehicles \n",
        "*.   Most vehicles were owned by first time owners\n",
        "*   Most vehicles had 5 seats \n",
        "\n",
        "\n",
        "\n",
        "\n",
        "\n"
      ]
    },
    {
      "cell_type": "markdown",
      "metadata": {
        "id": "PkAdkPPkenGm"
      },
      "source": [
        "***3.The most popular car brand/name*** "
      ]
    },
    {
      "cell_type": "code",
      "execution_count": null,
      "metadata": {
        "colab": {
          "base_uri": "https://localhost:8080/",
          "height": 407
        },
        "id": "wyMiTglFiLqq",
        "outputId": "e298c3f5-b1be-4551-a5f0-4217fdd3b335"
      },
      "outputs": [
        {
          "output_type": "display_data",
          "data": {
            "text/plain": [
              "<Figure size 1080x360 with 1 Axes>"
            ],
            "image/png": "[encoded data removed]"
          },
          "metadata": {
            "needs_background": "light"
          }
        }
      ],
      "source": [
        "# The most popular car brand/name \n",
        "fig, axes = plt.subplots(figsize = (15,5))\n",
        "data['name'].value_counts().plot(kind = 'bar')\n",
        "plt.title('vehicle_brand count', size = 15)\n",
        "plt.xlabel('vehicle_brand', size = 12)\n",
        "plt.ylabel('count', size = 12);\n",
        "# The most popular car brand is maruti with the least popular being opel "
      ]
    },
    {
      "cell_type": "markdown",
      "metadata": {
        "id": "hfIJi23Xezu0"
      },
      "source": [
        "* The most popular car brand is maruti with the least popular being opel "
      ]
    },
    {
      "cell_type": "markdown",
      "metadata": {
        "id": "4sz0R8Cxe9sE"
      },
      "source": [
        "***4.Distribution***"
      ]
    },
    {
      "cell_type": "code",
      "execution_count": null,
      "metadata": {
        "colab": {
          "base_uri": "https://localhost:8080/",
          "height": 726
        },
        "id": "Chs4daYeksrK",
        "outputId": "509f764b-b271-4e78-bd62-44f5aae2e67a"
      },
      "outputs": [
        {
          "output_type": "display_data",
          "data": {
            "text/plain": [
              "<Figure size 1440x720 with 6 Axes>"
            ],
            "image/png": "[encoded data removed]"
          },
          "metadata": {
            "needs_background": "light"
          }
        }
      ],
      "source": [
        "fig, axes = plt.subplots(2, 3, figsize = (20,10))\n",
        "\n",
        "data['year'].plot.hist(ax = axes[0,0])\n",
        "axes[0,0].set_title('year', size = 15)\n",
        "data['selling_price'].plot.hist(ax = axes[0,1])\n",
        "axes[0,1].set_title('selling_price', size = 15)\n",
        "data['km_driven'].plot.hist(ax = axes[0,2])\n",
        "axes[0,2].set_title('km_driven', size = 15)\n",
        "data['mileage'].plot.hist(ax = axes[1,0])\n",
        "axes[1,0].set_title('mileage', size = 15)\n",
        "data['engine'].plot.hist(ax = axes[1,1])\n",
        "axes[1,1].set_title('engine_capacity', size = 15)\n",
        "data['max_power'].plot.hist(ax = axes[1,2])\n",
        "axes[1,2].set_title('max_power', size =15)\n",
        "fig.tight_layout();"
      ]
    },
    {
      "cell_type": "markdown",
      "metadata": {
        "id": "T1Z7Qnkj1r2l"
      },
      "source": [
        "\n",
        "\n",
        "1.   Most vehicles were from the year 2010 to 2020\n",
        "2.   The mileage on most vehicles was between 15 and 25\n",
        "3.   The engine capacity on most vehicles was between 1000cc to 1500cc\n",
        "4.   The maximum power on most vehicles was between 50 and 100 horsepower\n",
        "5.   The selling price of most of the vehicles was between 0 and 0.2 million \n",
        "6.   Most cars had been driver for between 0 and 0.25 million kilometers \n",
        "\n"
      ]
    },
    {
      "cell_type": "markdown",
      "metadata": {
        "id": "8ZM0R8BrfdVv"
      },
      "source": [
        "***5.Region the vehicle was used***"
      ]
    },
    {
      "cell_type": "code",
      "execution_count": null,
      "metadata": {
        "colab": {
          "base_uri": "https://localhost:8080/"
        },
        "id": "JT7Vhy6zqBC4",
        "outputId": "e0daa858-c6e5-41e9-cdd9-4572d3c9e525"
      },
      "outputs": [
        {
          "output_type": "execute_result",
          "data": {
            "text/plain": [
              "Central    0.300531\n",
              "West       0.249937\n",
              "East       0.245257\n",
              "South      0.204275\n",
              "Name: Region, dtype: float64"
            ]
          },
          "metadata": {},
          "execution_count": 19
        }
      ],
      "source": [
        "data['Region'].value_counts(normalize = True)\n",
        "# central region had the highest number of vehicles used while the south region had the least vehicles used although there was not much difference."
      ]
    },
    {
      "cell_type": "code",
      "execution_count": null,
      "metadata": {
        "colab": {
          "base_uri": "https://localhost:8080/",
          "height": 266
        },
        "id": "55z9IEFFuK3-",
        "outputId": "43542076-aad3-4b8a-fd6a-7a560ddaeff4"
      },
      "outputs": [
        {
          "output_type": "display_data",
          "data": {
            "text/plain": [
              "<Figure size 432x288 with 1 Axes>"
            ],
            "image/png": "[encoded data removed]"
          },
          "metadata": {}
        }
      ],
      "source": [
        "colors = ['gold', 'yellowgreen', 'lightcoral', 'lightskyblue']\n",
        "data['Region'].value_counts().plot.pie(explode = (0.1, 0.1, 0.1, 0.1), autopct = '%1.1f%%', shadow= True, startangle=140, colors = colors);\n",
        "plt.axis('equal')\n",
        "plt.title('Vehicle count per region', size = 15);"
      ]
    },
    {
      "cell_type": "code",
      "execution_count": null,
      "metadata": {
        "colab": {
          "base_uri": "https://localhost:8080/"
        },
        "id": "N5biEuwQqYHT",
        "outputId": "4ce46758-bfe7-4625-9e83-017c63cc3bd6"
      },
      "outputs": [
        {
          "output_type": "stream",
          "name": "stdout",
          "text": [
            "California    901\n",
            "Texas         499\n",
            "New York      491\n",
            "Name: State or Province, dtype: int64\n",
            "**************\n",
            "Rhode Island    17\n",
            "Delaware        15\n",
            "Wyoming         12\n",
            "Name: State or Province, dtype: int64\n"
          ]
        }
      ],
      "source": [
        "print(data['State or Province'].value_counts().head(3))\n",
        "print('**************')\n",
        "print(data['State or Province'].value_counts().tail(3))\n",
        "\n",
        "# the state of California had the most number of vehicles dealt while the province of Wyoming had the least"
      ]
    },
    {
      "cell_type": "markdown",
      "metadata": {
        "id": "9103QwiFfq2I"
      },
      "source": [
        "* The state of California had the most number of vehicles dealt while the province of Wyoming had the least"
      ]
    },
    {
      "cell_type": "markdown",
      "metadata": {
        "id": "KnYOpezKsVZY"
      },
      "source": [
        "**2)Bivariate Analysis**"
      ]
    },
    {
      "cell_type": "markdown",
      "metadata": {
        "id": "-5T4cK0cg5FG"
      },
      "source": [
        "***1.Sales per feature***"
      ]
    },
    {
      "cell_type": "code",
      "execution_count": null,
      "metadata": {
        "colab": {
          "base_uri": "https://localhost:8080/",
          "height": 661
        },
        "id": "0QxVeXF1KSAJ",
        "outputId": "9ce594ed-6254-42dd-e4d2-2b319f105c85"
      },
      "outputs": [
        {
          "output_type": "display_data",
          "data": {
            "text/plain": [
              "<Figure size 1584x720 with 6 Axes>"
            ],
            "image/png": "[encoded data removed]"
          },
          "metadata": {
            "needs_background": "light"
          }
        }
      ],
      "source": [
        "fig, axes = plt.subplots(nrows = 2, ncols = 3, figsize =(22,10))\n",
        "\n",
        "sns.countplot(ax = axes[0,0], x = 'Region', hue = 'sold', data = data)\n",
        "axes[0,0].set_title('sales per region', size = 15)\n",
        "sns.countplot(ax = axes[0,1], x = 'fuel', hue = 'sold', data = data)\n",
        "axes[0,1].set_title('sales per fuel type', size = 15)\n",
        "sns.countplot(ax = axes[0,2], x ='seller_type', hue = 'sold', data = data)\n",
        "axes[0,2].set_title('sales per seller_type', size = 15)\n",
        "sns.countplot(ax = axes[1,0], x = 'transmission', hue = 'sold', data = data)\n",
        "axes[1,0].set_title('sales per transmission_type', size = 15)\n",
        "sns.countplot(ax = axes[1,1], x = 'owner', hue = 'sold', data = data)\n",
        "axes[1,1].set_title('sales per previous owner', size = 15)\n",
        "fig.tight_layout()"
      ]
    },
    {
      "cell_type": "markdown",
      "metadata": {
        "id": "R0U0XZc9Ok9H"
      },
      "source": [
        "\n",
        "\n",
        "*  From all the charts we can see that cars that were not sold were the most.\n",
        "*   The Eastern region had the highest count of cars both sold and not sold with cars not sold being the most \n",
        "*   Most vehicles were diesel vehicles and most of them were not sold \n",
        "*   Most vehicles were owned by individuals, also, most of them were not sold.\n",
        "*   Most vehicles were vehicles with manual transmission and most of them were also not sold.\n",
        "*  First time owners of vehicles were the most, but even with this, most of them did not sell their vehicles \n",
        "\n"
      ]
    },
    {
      "cell_type": "markdown",
      "metadata": {
        "id": "aujq0IFdheco"
      },
      "source": [
        "***2.Selling price vs km driven***"
      ]
    },
    {
      "cell_type": "code",
      "execution_count": null,
      "metadata": {
        "colab": {
          "base_uri": "https://localhost:8080/",
          "height": 729
        },
        "id": "BhptKZnCpR6D",
        "outputId": "f2586c86-4686-4a03-89e3-75b6f833cbd3"
      },
      "outputs": [
        {
          "output_type": "display_data",
          "data": {
            "text/plain": [
              "<Figure size 720x720 with 2 Axes>"
            ],
            "image/png": "[encoded data removed]"
          },
          "metadata": {
            "needs_background": "light"
          }
        }
      ],
      "source": [
        "fig, axes = plt.subplots(nrows = 2, figsize = (10,10))\n",
        "axes[0].scatter(x = data['km_driven'], y = data['selling_price'])\n",
        "axes[0].set_title('relationship - selling_price against km_driven',size = 17)\n",
        "axes[0].set_xlabel('km_driven(millions)',size = 12)\n",
        "axes[0].set_ylabel('selling price(millions)',size = 12)\n",
        "axes[1].scatter(x = data['mileage'], y = data['selling_price'])\n",
        "axes[1].set_title('relationship - selling price against mileage', size = 17)\n",
        "axes[1].set_xlabel('mileage', size = 12)\n",
        "axes[1].set_ylabel('selling_price(millions)', size = 12)\n",
        "plt.tight_layout();"
      ]
    },
    {
      "cell_type": "markdown",
      "metadata": {
        "id": "hhVxze0nm7Fo"
      },
      "source": []
    },
    {
      "cell_type": "markdown",
      "metadata": {
        "id": "hOQXthHzu66H"
      },
      "source": [
        "\n",
        "\n",
        "*   Most vehicles have travelled for few kilometers and have a low price as well.\n",
        "*.   Most vehicles have a mileage of between 10-30 while the selling price is low as well \n",
        "\n"
      ]
    },
    {
      "cell_type": "markdown",
      "metadata": {
        "id": "reCWSVz3h4Ep"
      },
      "source": [
        "***3)Engine size vs horse power***"
      ]
    },
    {
      "cell_type": "code",
      "execution_count": null,
      "metadata": {
        "colab": {
          "base_uri": "https://localhost:8080/",
          "height": 1000
        },
        "id": "Aevvum-Zka96",
        "outputId": "478a9e07-c1cc-4ca0-dc87-876947691d9a"
      },
      "outputs": [
        {
          "output_type": "display_data",
          "data": {
            "text/plain": [
              "<Figure size 720x1440 with 3 Axes>"
            ],
            "image/png": "[encoded data removed]"
          },
          "metadata": {
            "needs_background": "light"
          }
        }
      ],
      "source": [
        "# Engine_size vs horse_power\n",
        "# Engine_size vs mileage\n",
        "fig, axes = plt.subplots(nrows = 3, figsize = (10,20))\n",
        "axes[0].scatter(x = data['engine'], y = data['max_power'])\n",
        "axes[0].set_title('relationship - max_power against engine_size',size = 17)\n",
        "axes[0].set_xlabel('engine_size (cc)',size = 12)\n",
        "axes[0].set_ylabel('horse_power',size = 12)\n",
        "axes[1].scatter(x = data['engine'], y = data['mileage'])\n",
        "axes[1].set_title('relationship - mileage against engine_size', size = 17)\n",
        "axes[1].set_xlabel('engine_size (cc)', size = 12)\n",
        "axes[1].set_ylabel('mileage', size = 12)\n",
        "axes[2].scatter(x = data['engine'], y = data['km_driven'])\n",
        "axes[2].set_title('relationship - distance driven (km) against engine_size', size = 17)\n",
        "axes[2].set_xlabel('engine_size (cc)', size = 12)\n",
        "axes[2].set_ylabel('km_driven(millions)', size = 12)\n",
        "plt.tight_layout();"
      ]
    },
    {
      "cell_type": "markdown",
      "metadata": {
        "id": "VsxhdBWx0Wtv"
      },
      "source": [
        "* The more the engine size the higher the power (horse_power) of the engine.(positive correlation)\n",
        "\n",
        "* The higher the engine size, the less the mileage (negative correlation)\n",
        "\n",
        "* All cars(different engine capacities) were driven for almost the same distance (very little correlation)"
      ]
    },
    {
      "cell_type": "markdown",
      "metadata": {
        "id": "O60Y7gX6iZhm"
      },
      "source": [
        "**Encoding**"
      ]
    },
    {
      "cell_type": "code",
      "execution_count": null,
      "metadata": {
        "colab": {
          "base_uri": "https://localhost:8080/",
          "height": 250
        },
        "id": "Bc6VVC0H0iO5",
        "outputId": "338e460a-99e0-4c0d-f8f6-5535185b4d38"
      },
      "outputs": [
        {
          "output_type": "execute_result",
          "data": {
            "text/plain": [
              "   Sales_ID  name  year  selling_price  km_driven  Region  State or Province  \\\n",
              "0         1    20  2014         450000     145500       1                  7   \n",
              "1         2    26  2014         370000     120000       1                 30   \n",
              "2         3    10  2006         158000     140000       0                 11   \n",
              "3         4    11  2010         225000     127000       0                 11   \n",
              "4         5    20  2007         130000     120000       1                 30   \n",
              "\n",
              "   City  fuel  seller_type  transmission  owner  mileage  engine  max_power  \\\n",
              "0  1223     1            1             1      0    23.40    1248      74.00   \n",
              "1   786     1            1             1      2    21.14    1498     103.52   \n",
              "2   193     3            1             1      4    17.70    1497      78.00   \n",
              "3   193     1            1             1      0    23.00    1396      90.00   \n",
              "4   786     3            1             1      0    16.10    1298      88.20   \n",
              "\n",
              "   torque  seats  sold  \n",
              "0     178      5     1  \n",
              "1     260      5     1  \n",
              "2      66      5     1  \n",
              "3     224      5     1  \n",
              "4      21      5     1  "
            ],
            "text/html": [
              "\n",
              "  <div id=\"df-e6919181-b151-4057-aa3c-e164cfc8b645\">\n",
              "    <div class=\"colab-df-container\">\n",
              "      <div>\n",
              "<style scoped>\n",
              "    .dataframe tbody tr th:only-of-type {\n",
              "        vertical-align: middle;\n",
              "    }\n",
              "\n",
              "    .dataframe tbody tr th {\n",
              "        vertical-align: top;\n",
              "    }\n",
              "\n",
              "    .dataframe thead th {\n",
              "        text-align: right;\n",
              "    }\n",
              "</style>\n",
              "<table border=\"1\" class=\"dataframe\">\n",
              "  <thead>\n",
              "    <tr style=\"text-align: right;\">\n",
              "      <th></th>\n",
              "      <th>Sales_ID</th>\n",
              "      <th>name</th>\n",
              "      <th>year</th>\n",
              "      <th>selling_price</th>\n",
              "      <th>km_driven</th>\n",
              "      <th>Region</th>\n",
              "      <th>State or Province</th>\n",
              "      <th>City</th>\n",
              "      <th>fuel</th>\n",
              "      <th>seller_type</th>\n",
              "      <th>transmission</th>\n",
              "      <th>owner</th>\n",
              "      <th>mileage</th>\n",
              "      <th>engine</th>\n",
              "      <th>max_power</th>\n",
              "      <th>torque</th>\n",
              "      <th>seats</th>\n",
              "      <th>sold</th>\n",
              "    </tr>\n",
              "  </thead>\n",
              "  <tbody>\n",
              "    <tr>\n",
              "      <th>0</th>\n",
              "      <td>1</td>\n",
              "      <td>20</td>\n",
              "      <td>2014</td>\n",
              "      <td>450000</td>\n",
              "      <td>145500</td>\n",
              "      <td>1</td>\n",
              "      <td>7</td>\n",
              "      <td>1223</td>\n",
              "      <td>1</td>\n",
              "      <td>1</td>\n",
              "      <td>1</td>\n",
              "      <td>0</td>\n",
              "      <td>23.40</td>\n",
              "      <td>1248</td>\n",
              "      <td>74.00</td>\n",
              "      <td>178</td>\n",
              "      <td>5</td>\n",
              "      <td>1</td>\n",
              "    </tr>\n",
              "    <tr>\n",
              "      <th>1</th>\n",
              "      <td>2</td>\n",
              "      <td>26</td>\n",
              "      <td>2014</td>\n",
              "      <td>370000</td>\n",
              "      <td>120000</td>\n",
              "      <td>1</td>\n",
              "      <td>30</td>\n",
              "      <td>786</td>\n",
              "      <td>1</td>\n",
              "      <td>1</td>\n",
              "      <td>1</td>\n",
              "      <td>2</td>\n",
              "      <td>21.14</td>\n",
              "      <td>1498</td>\n",
              "      <td>103.52</td>\n",
              "      <td>260</td>\n",
              "      <td>5</td>\n",
              "      <td>1</td>\n",
              "    </tr>\n",
              "    <tr>\n",
              "      <th>2</th>\n",
              "      <td>3</td>\n",
              "      <td>10</td>\n",
              "      <td>2006</td>\n",
              "      <td>158000</td>\n",
              "      <td>140000</td>\n",
              "      <td>0</td>\n",
              "      <td>11</td>\n",
              "      <td>193</td>\n",
              "      <td>3</td>\n",
              "      <td>1</td>\n",
              "      <td>1</td>\n",
              "      <td>4</td>\n",
              "      <td>17.70</td>\n",
              "      <td>1497</td>\n",
              "      <td>78.00</td>\n",
              "      <td>66</td>\n",
              "      <td>5</td>\n",
              "      <td>1</td>\n",
              "    </tr>\n",
              "    <tr>\n",
              "      <th>3</th>\n",
              "      <td>4</td>\n",
              "      <td>11</td>\n",
              "      <td>2010</td>\n",
              "      <td>225000</td>\n",
              "      <td>127000</td>\n",
              "      <td>0</td>\n",
              "      <td>11</td>\n",
              "      <td>193</td>\n",
              "      <td>1</td>\n",
              "      <td>1</td>\n",
              "      <td>1</td>\n",
              "      <td>0</td>\n",
              "      <td>23.00</td>\n",
              "      <td>1396</td>\n",
              "      <td>90.00</td>\n",
              "      <td>224</td>\n",
              "      <td>5</td>\n",
              "      <td>1</td>\n",
              "    </tr>\n",
              "    <tr>\n",
              "      <th>4</th>\n",
              "      <td>5</td>\n",
              "      <td>20</td>\n",
              "      <td>2007</td>\n",
              "      <td>130000</td>\n",
              "      <td>120000</td>\n",
              "      <td>1</td>\n",
              "      <td>30</td>\n",
              "      <td>786</td>\n",
              "      <td>3</td>\n",
              "      <td>1</td>\n",
              "      <td>1</td>\n",
              "      <td>0</td>\n",
              "      <td>16.10</td>\n",
              "      <td>1298</td>\n",
              "      <td>88.20</td>\n",
              "      <td>21</td>\n",
              "      <td>5</td>\n",
              "      <td>1</td>\n",
              "    </tr>\n",
              "  </tbody>\n",
              "</table>\n",
              "</div>\n",
              "      <button class=\"colab-df-convert\" onclick=\"convertToInteractive('df-e6919181-b151-4057-aa3c-e164cfc8b645')\"\n",
              "              title=\"Convert this dataframe to an interactive table.\"\n",
              "              style=\"display:none;\">\n",
              "        \n",
              "  <svg xmlns=\"http://www.w3.org/2000/svg\" height=\"24px\"viewBox=\"0 0 24 24\"\n",
              "       width=\"24px\">\n",
              "    <path d=\"M0 0h24v24H0V0z\" fill=\"none\"/>\n",
              "    <path d=\"M18.56 5.44l.94 2.06.94-2.06 2.06-.94-2.06-.94-.94-2.06-.94 2.06-2.06.94zm-11 1L8.5 8.5l.94-2.06 2.06-.94-2.06-.94L8.5 2.5l-.94 2.06-2.06.94zm10 10l.94 2.06.94-2.06 2.06-.94-2.06-.94-.94-2.06-.94 2.06-2.06.94z\"/><path d=\"M17.41 7.96l-1.37-1.37c-.4-.4-.92-.59-1.43-.59-.52 0-1.04.2-1.43.59L10.3 9.45l-7.72 7.72c-.78.78-.78 2.05 0 2.83L4 21.41c.39.39.9.59 1.41.59.51 0 1.02-.2 1.41-.59l7.78-7.78 2.81-2.81c.8-.78.8-2.07 0-2.86zM5.41 20L4 18.59l7.72-7.72 1.47 1.35L5.41 20z\"/>\n",
              "  </svg>\n",
              "      </button>\n",
              "      \n",
              "  <style>\n",
              "    .colab-df-container {\n",
              "      display:flex;\n",
              "      flex-wrap:wrap;\n",
              "      gap: 12px;\n",
              "    }\n",
              "\n",
              "    .colab-df-convert {\n",
              "      background-color: #E8F0FE;\n",
              "      border: none;\n",
              "      border-radius: 50%;\n",
              "      cursor: pointer;\n",
              "      display: none;\n",
              "      fill: #1967D2;\n",
              "      height: 32px;\n",
              "      padding: 0 0 0 0;\n",
              "      width: 32px;\n",
              "    }\n",
              "\n",
              "    .colab-df-convert:hover {\n",
              "      background-color: #E2EBFA;\n",
              "      box-shadow: 0px 1px 2px rgba(60, 64, 67, 0.3), 0px 1px 3px 1px rgba(60, 64, 67, 0.15);\n",
              "      fill: #174EA6;\n",
              "    }\n",
              "\n",
              "    [theme=dark] .colab-df-convert {\n",
              "      background-color: #3B4455;\n",
              "      fill: #D2E3FC;\n",
              "    }\n",
              "\n",
              "    [theme=dark] .colab-df-convert:hover {\n",
              "      background-color: #434B5C;\n",
              "      box-shadow: 0px 1px 3px 1px rgba(0, 0, 0, 0.15);\n",
              "      filter: drop-shadow(0px 1px 2px rgba(0, 0, 0, 0.3));\n",
              "      fill: #FFFFFF;\n",
              "    }\n",
              "  </style>\n",
              "\n",
              "      <script>\n",
              "        const buttonEl =\n",
              "          document.querySelector('#df-e6919181-b151-4057-aa3c-e164cfc8b645 button.colab-df-convert');\n",
              "        buttonEl.style.display =\n",
              "          google.colab.kernel.accessAllowed ? 'block' : 'none';\n",
              "\n",
              "        async function convertToInteractive(key) {\n",
              "          const element = document.querySelector('#df-e6919181-b151-4057-aa3c-e164cfc8b645');\n",
              "          const dataTable =\n",
              "            await google.colab.kernel.invokeFunction('convertToInteractive',\n",
              "                                                     [key], {});\n",
              "          if (!dataTable) return;\n",
              "\n",
              "          const docLinkHtml = 'Like what you see? Visit the ' +\n",
              "            '<a target=\"_blank\" href=https://colab.research.google.com/notebooks/data_table.ipynb>data table notebook</a>'\n",
              "            + ' to learn more about interactive tables.';\n",
              "          element.innerHTML = '';\n",
              "          dataTable['output_type'] = 'display_data';\n",
              "          await google.colab.output.renderOutput(dataTable, element);\n",
              "          const docLink = document.createElement('div');\n",
              "          docLink.innerHTML = docLinkHtml;\n",
              "          element.appendChild(docLink);\n",
              "        }\n",
              "      </script>\n",
              "    </div>\n",
              "  </div>\n",
              "  "
            ]
          },
          "metadata": {},
          "execution_count": 25
        }
      ],
      "source": [
        "# label encoding the columns with object data type.\n",
        "\n",
        "from sklearn.preprocessing import LabelEncoder\n",
        "cols = data.select_dtypes('object').columns\n",
        "le = LabelEncoder()\n",
        "data[cols] = data[cols].apply(le.fit_transform)\n",
        "data.head()"
      ]
    },
    {
      "cell_type": "code",
      "execution_count": null,
      "metadata": {
        "id": "xn8ht5OnKTOH"
      },
      "outputs": [],
      "source": [
        "# dropping the torque and Sales_ID column since this will not be used in the analysis/modelling.\n",
        "data = data.drop(['torque','Sales_ID'], axis = 1)"
      ]
    },
    {
      "cell_type": "code",
      "execution_count": null,
      "metadata": {
        "colab": {
          "base_uri": "https://localhost:8080/",
          "height": 206
        },
        "id": "6O5DycFpM2a3",
        "outputId": "d55e1dec-2e9d-4bd3-fac3-11cc9260842d"
      },
      "outputs": [
        {
          "output_type": "execute_result",
          "data": {
            "text/plain": [
              "   name  year  selling_price  km_driven  Region  State or Province  City  \\\n",
              "0    20  2014         450000     145500       1                  7  1223   \n",
              "1    26  2014         370000     120000       1                 30   786   \n",
              "2    10  2006         158000     140000       0                 11   193   \n",
              "3    11  2010         225000     127000       0                 11   193   \n",
              "4    20  2007         130000     120000       1                 30   786   \n",
              "\n",
              "   fuel  seller_type  transmission  owner  mileage  engine  max_power  seats  \\\n",
              "0     1            1             1      0    23.40    1248      74.00      5   \n",
              "1     1            1             1      2    21.14    1498     103.52      5   \n",
              "2     3            1             1      4    17.70    1497      78.00      5   \n",
              "3     1            1             1      0    23.00    1396      90.00      5   \n",
              "4     3            1             1      0    16.10    1298      88.20      5   \n",
              "\n",
              "   sold  \n",
              "0     1  \n",
              "1     1  \n",
              "2     1  \n",
              "3     1  \n",
              "4     1  "
            ],
            "text/html": [
              "\n",
              "  <div id=\"df-18cf0e04-df3c-4081-8c93-688797eba4d4\">\n",
              "    <div class=\"colab-df-container\">\n",
              "      <div>\n",
              "<style scoped>\n",
              "    .dataframe tbody tr th:only-of-type {\n",
              "        vertical-align: middle;\n",
              "    }\n",
              "\n",
              "    .dataframe tbody tr th {\n",
              "        vertical-align: top;\n",
              "    }\n",
              "\n",
              "    .dataframe thead th {\n",
              "        text-align: right;\n",
              "    }\n",
              "</style>\n",
              "<table border=\"1\" class=\"dataframe\">\n",
              "  <thead>\n",
              "    <tr style=\"text-align: right;\">\n",
              "      <th></th>\n",
              "      <th>name</th>\n",
              "      <th>year</th>\n",
              "      <th>selling_price</th>\n",
              "      <th>km_driven</th>\n",
              "      <th>Region</th>\n",
              "      <th>State or Province</th>\n",
              "      <th>City</th>\n",
              "      <th>fuel</th>\n",
              "      <th>seller_type</th>\n",
              "      <th>transmission</th>\n",
              "      <th>owner</th>\n",
              "      <th>mileage</th>\n",
              "      <th>engine</th>\n",
              "      <th>max_power</th>\n",
              "      <th>seats</th>\n",
              "      <th>sold</th>\n",
              "    </tr>\n",
              "  </thead>\n",
              "  <tbody>\n",
              "    <tr>\n",
              "      <th>0</th>\n",
              "      <td>20</td>\n",
              "      <td>2014</td>\n",
              "      <td>450000</td>\n",
              "      <td>145500</td>\n",
              "      <td>1</td>\n",
              "      <td>7</td>\n",
              "      <td>1223</td>\n",
              "      <td>1</td>\n",
              "      <td>1</td>\n",
              "      <td>1</td>\n",
              "      <td>0</td>\n",
              "      <td>23.40</td>\n",
              "      <td>1248</td>\n",
              "      <td>74.00</td>\n",
              "      <td>5</td>\n",
              "      <td>1</td>\n",
              "    </tr>\n",
              "    <tr>\n",
              "      <th>1</th>\n",
              "      <td>26</td>\n",
              "      <td>2014</td>\n",
              "      <td>370000</td>\n",
              "      <td>120000</td>\n",
              "      <td>1</td>\n",
              "      <td>30</td>\n",
              "      <td>786</td>\n",
              "      <td>1</td>\n",
              "      <td>1</td>\n",
              "      <td>1</td>\n",
              "      <td>2</td>\n",
              "      <td>21.14</td>\n",
              "      <td>1498</td>\n",
              "      <td>103.52</td>\n",
              "      <td>5</td>\n",
              "      <td>1</td>\n",
              "    </tr>\n",
              "    <tr>\n",
              "      <th>2</th>\n",
              "      <td>10</td>\n",
              "      <td>2006</td>\n",
              "      <td>158000</td>\n",
              "      <td>140000</td>\n",
              "      <td>0</td>\n",
              "      <td>11</td>\n",
              "      <td>193</td>\n",
              "      <td>3</td>\n",
              "      <td>1</td>\n",
              "      <td>1</td>\n",
              "      <td>4</td>\n",
              "      <td>17.70</td>\n",
              "      <td>1497</td>\n",
              "      <td>78.00</td>\n",
              "      <td>5</td>\n",
              "      <td>1</td>\n",
              "    </tr>\n",
              "    <tr>\n",
              "      <th>3</th>\n",
              "      <td>11</td>\n",
              "      <td>2010</td>\n",
              "      <td>225000</td>\n",
              "      <td>127000</td>\n",
              "      <td>0</td>\n",
              "      <td>11</td>\n",
              "      <td>193</td>\n",
              "      <td>1</td>\n",
              "      <td>1</td>\n",
              "      <td>1</td>\n",
              "      <td>0</td>\n",
              "      <td>23.00</td>\n",
              "      <td>1396</td>\n",
              "      <td>90.00</td>\n",
              "      <td>5</td>\n",
              "      <td>1</td>\n",
              "    </tr>\n",
              "    <tr>\n",
              "      <th>4</th>\n",
              "      <td>20</td>\n",
              "      <td>2007</td>\n",
              "      <td>130000</td>\n",
              "      <td>120000</td>\n",
              "      <td>1</td>\n",
              "      <td>30</td>\n",
              "      <td>786</td>\n",
              "      <td>3</td>\n",
              "      <td>1</td>\n",
              "      <td>1</td>\n",
              "      <td>0</td>\n",
              "      <td>16.10</td>\n",
              "      <td>1298</td>\n",
              "      <td>88.20</td>\n",
              "      <td>5</td>\n",
              "      <td>1</td>\n",
              "    </tr>\n",
              "  </tbody>\n",
              "</table>\n",
              "</div>\n",
              "      <button class=\"colab-df-convert\" onclick=\"convertToInteractive('df-18cf0e04-df3c-4081-8c93-688797eba4d4')\"\n",
              "              title=\"Convert this dataframe to an interactive table.\"\n",
              "              style=\"display:none;\">\n",
              "        \n",
              "  <svg xmlns=\"http://www.w3.org/2000/svg\" height=\"24px\"viewBox=\"0 0 24 24\"\n",
              "       width=\"24px\">\n",
              "    <path d=\"M0 0h24v24H0V0z\" fill=\"none\"/>\n",
              "    <path d=\"M18.56 5.44l.94 2.06.94-2.06 2.06-.94-2.06-.94-.94-2.06-.94 2.06-2.06.94zm-11 1L8.5 8.5l.94-2.06 2.06-.94-2.06-.94L8.5 2.5l-.94 2.06-2.06.94zm10 10l.94 2.06.94-2.06 2.06-.94-2.06-.94-.94-2.06-.94 2.06-2.06.94z\"/><path d=\"M17.41 7.96l-1.37-1.37c-.4-.4-.92-.59-1.43-.59-.52 0-1.04.2-1.43.59L10.3 9.45l-7.72 7.72c-.78.78-.78 2.05 0 2.83L4 21.41c.39.39.9.59 1.41.59.51 0 1.02-.2 1.41-.59l7.78-7.78 2.81-2.81c.8-.78.8-2.07 0-2.86zM5.41 20L4 18.59l7.72-7.72 1.47 1.35L5.41 20z\"/>\n",
              "  </svg>\n",
              "      </button>\n",
              "      \n",
              "  <style>\n",
              "    .colab-df-container {\n",
              "      display:flex;\n",
              "      flex-wrap:wrap;\n",
              "      gap: 12px;\n",
              "    }\n",
              "\n",
              "    .colab-df-convert {\n",
              "      background-color: #E8F0FE;\n",
              "      border: none;\n",
              "      border-radius: 50%;\n",
              "      cursor: pointer;\n",
              "      display: none;\n",
              "      fill: #1967D2;\n",
              "      height: 32px;\n",
              "      padding: 0 0 0 0;\n",
              "      width: 32px;\n",
              "    }\n",
              "\n",
              "    .colab-df-convert:hover {\n",
              "      background-color: #E2EBFA;\n",
              "      box-shadow: 0px 1px 2px rgba(60, 64, 67, 0.3), 0px 1px 3px 1px rgba(60, 64, 67, 0.15);\n",
              "      fill: #174EA6;\n",
              "    }\n",
              "\n",
              "    [theme=dark] .colab-df-convert {\n",
              "      background-color: #3B4455;\n",
              "      fill: #D2E3FC;\n",
              "    }\n",
              "\n",
              "    [theme=dark] .colab-df-convert:hover {\n",
              "      background-color: #434B5C;\n",
              "      box-shadow: 0px 1px 3px 1px rgba(0, 0, 0, 0.15);\n",
              "      filter: drop-shadow(0px 1px 2px rgba(0, 0, 0, 0.3));\n",
              "      fill: #FFFFFF;\n",
              "    }\n",
              "  </style>\n",
              "\n",
              "      <script>\n",
              "        const buttonEl =\n",
              "          document.querySelector('#df-18cf0e04-df3c-4081-8c93-688797eba4d4 button.colab-df-convert');\n",
              "        buttonEl.style.display =\n",
              "          google.colab.kernel.accessAllowed ? 'block' : 'none';\n",
              "\n",
              "        async function convertToInteractive(key) {\n",
              "          const element = document.querySelector('#df-18cf0e04-df3c-4081-8c93-688797eba4d4');\n",
              "          const dataTable =\n",
              "            await google.colab.kernel.invokeFunction('convertToInteractive',\n",
              "                                                     [key], {});\n",
              "          if (!dataTable) return;\n",
              "\n",
              "          const docLinkHtml = 'Like what you see? Visit the ' +\n",
              "            '<a target=\"_blank\" href=https://colab.research.google.com/notebooks/data_table.ipynb>data table notebook</a>'\n",
              "            + ' to learn more about interactive tables.';\n",
              "          element.innerHTML = '';\n",
              "          dataTable['output_type'] = 'display_data';\n",
              "          await google.colab.output.renderOutput(dataTable, element);\n",
              "          const docLink = document.createElement('div');\n",
              "          docLink.innerHTML = docLinkHtml;\n",
              "          element.appendChild(docLink);\n",
              "        }\n",
              "      </script>\n",
              "    </div>\n",
              "  </div>\n",
              "  "
            ]
          },
          "metadata": {},
          "execution_count": 27
        }
      ],
      "source": [
        "# Viewing the new data\n",
        "data.head(5)"
      ]
    },
    {
      "cell_type": "markdown",
      "metadata": {
        "id": "vMKylH-miw4S"
      },
      "source": [
        "***4)Correlation***"
      ]
    },
    {
      "cell_type": "code",
      "execution_count": null,
      "metadata": {
        "colab": {
          "base_uri": "https://localhost:8080/",
          "height": 779
        },
        "id": "lQDjYRf-NRZf",
        "outputId": "4cbc4ad1-69d2-412c-ccca-e937e8ac4428"
      },
      "outputs": [
        {
          "output_type": "display_data",
          "data": {
            "text/plain": [
              "<Figure size 1224x864 with 2 Axes>"
            ],
            "image/png": "[encoded data removed]"
          },
          "metadata": {
            "needs_background": "light"
          }
        }
      ],
      "source": [
        "# correlation of the columns\n",
        "# heatmap\n",
        "fig, axes = plt.subplots(figsize = (17,12))\n",
        "sns.heatmap(data.corr(), annot = True);\n",
        "# Negative correlations ??\n",
        "# feature importance LDA - \n",
        "# Look at the business side of things."
      ]
    },
    {
      "cell_type": "markdown",
      "metadata": {
        "id": "240vbL5cPt22"
      },
      "source": [
        "\n",
        "\n",
        "*  we can see that the price of the vehicle is highly correlated to the engine power. However, I will not be making changes on these columns since they are important in the modelling stages.\n"
      ]
    },
    {
      "cell_type": "code",
      "execution_count": null,
      "metadata": {
        "colab": {
          "base_uri": "https://localhost:8080/",
          "height": 369
        },
        "id": "D8LULVkRgvlL",
        "outputId": "1d9162b4-9be0-415e-e446-8152b7a7c1f1"
      },
      "outputs": [
        {
          "output_type": "display_data",
          "data": {
            "text/plain": [
              "<Figure size 360x360 with 1 Axes>"
            ],
            "image/png": "[encoded data removed]"
          },
          "metadata": {
            "needs_background": "light"
          }
        }
      ],
      "source": [
        "# Relationship between engine size and seats. (has a high correlation in the heatmap)\n",
        "sns.catplot(x='seats', y='engine', data=data);\n",
        "\n",
        "# There is no clear relationship between the number of seats and the engine size.\n",
        "# However, cars with 5 seats were the most and thus there was a wide range in the engine capacity which has contributed to the high correlation."
      ]
    },
    {
      "cell_type": "markdown",
      "metadata": {
        "id": "WfsSI7cckIdY"
      },
      "source": [
        "* There is no clear relationship between the number of seats and the engine size.\n",
        "However, cars with 5 seats were the most and thus there was a wide range in the engine capacity which has contributed to the high correlation."
      ]
    },
    {
      "cell_type": "code",
      "execution_count": null,
      "metadata": {
        "colab": {
          "base_uri": "https://localhost:8080/",
          "height": 369
        },
        "id": "TxkXpXjjiT8L",
        "outputId": "e1f21b89-6c1b-428e-dab2-9b6c6d0b60aa"
      },
      "outputs": [
        {
          "output_type": "display_data",
          "data": {
            "text/plain": [
              "<Figure size 360x360 with 1 Axes>"
            ],
            "image/png": "[encoded data removed]"
          },
          "metadata": {
            "needs_background": "light"
          }
        }
      ],
      "source": [
        "sns.catplot(x='transmission', y='selling_price', data=data);\n",
        "# Why is there a high negative correlation between these two features ?"
      ]
    },
    {
      "cell_type": "markdown",
      "metadata": {
        "id": "oYXYX3aI422L"
      },
      "source": [
        "**3.Multivariate analysis**"
      ]
    },
    {
      "cell_type": "markdown",
      "metadata": {
        "id": "-qZKbk0bk1yN"
      },
      "source": [
        "**1)LDA**"
      ]
    },
    {
      "cell_type": "code",
      "execution_count": null,
      "metadata": {
        "id": "H5CrLZRYU6H7"
      },
      "outputs": [],
      "source": [
        "#Separating our dependant and independent variables\n",
        "x = data.drop('sold', axis = 1)\n",
        "y = data['sold']"
      ]
    },
    {
      "cell_type": "code",
      "execution_count": null,
      "metadata": {
        "colab": {
          "base_uri": "https://localhost:8080/",
          "height": 520
        },
        "id": "V_SXFk0G44vD",
        "outputId": "0510f234-eb59-428f-879d-692580e8d598"
      },
      "outputs": [
        {
          "output_type": "execute_result",
          "data": {
            "text/plain": [
              "                              0\n",
              "fuel               8.503166e-02\n",
              "seller_type        5.955559e-02\n",
              "seats              1.118210e-02\n",
              "name               3.203756e-03\n",
              "year               1.915660e-03\n",
              "owner              7.484663e-04\n",
              "engine             8.199844e-05\n",
              "km_driven          1.963895e-07\n",
              "selling_price      9.712103e-08\n",
              "City              -2.927158e-04\n",
              "State or Province -1.283549e-03\n",
              "max_power         -1.692673e-03\n",
              "mileage           -9.284219e-03\n",
              "Region            -1.396505e-02\n",
              "transmission      -4.482188e-02"
            ],
            "text/html": [
              "\n",
              "  <div id=\"df-f704fd9d-3508-46d6-9f66-f365f174153d\">\n",
              "    <div class=\"colab-df-container\">\n",
              "      <div>\n",
              "<style scoped>\n",
              "    .dataframe tbody tr th:only-of-type {\n",
              "        vertical-align: middle;\n",
              "    }\n",
              "\n",
              "    .dataframe tbody tr th {\n",
              "        vertical-align: top;\n",
              "    }\n",
              "\n",
              "    .dataframe thead th {\n",
              "        text-align: right;\n",
              "    }\n",
              "</style>\n",
              "<table border=\"1\" class=\"dataframe\">\n",
              "  <thead>\n",
              "    <tr style=\"text-align: right;\">\n",
              "      <th></th>\n",
              "      <th>0</th>\n",
              "    </tr>\n",
              "  </thead>\n",
              "  <tbody>\n",
              "    <tr>\n",
              "      <th>fuel</th>\n",
              "      <td>8.503166e-02</td>\n",
              "    </tr>\n",
              "    <tr>\n",
              "      <th>seller_type</th>\n",
              "      <td>5.955559e-02</td>\n",
              "    </tr>\n",
              "    <tr>\n",
              "      <th>seats</th>\n",
              "      <td>1.118210e-02</td>\n",
              "    </tr>\n",
              "    <tr>\n",
              "      <th>name</th>\n",
              "      <td>3.203756e-03</td>\n",
              "    </tr>\n",
              "    <tr>\n",
              "      <th>year</th>\n",
              "      <td>1.915660e-03</td>\n",
              "    </tr>\n",
              "    <tr>\n",
              "      <th>owner</th>\n",
              "      <td>7.484663e-04</td>\n",
              "    </tr>\n",
              "    <tr>\n",
              "      <th>engine</th>\n",
              "      <td>8.199844e-05</td>\n",
              "    </tr>\n",
              "    <tr>\n",
              "      <th>km_driven</th>\n",
              "      <td>1.963895e-07</td>\n",
              "    </tr>\n",
              "    <tr>\n",
              "      <th>selling_price</th>\n",
              "      <td>9.712103e-08</td>\n",
              "    </tr>\n",
              "    <tr>\n",
              "      <th>City</th>\n",
              "      <td>-2.927158e-04</td>\n",
              "    </tr>\n",
              "    <tr>\n",
              "      <th>State or Province</th>\n",
              "      <td>-1.283549e-03</td>\n",
              "    </tr>\n",
              "    <tr>\n",
              "      <th>max_power</th>\n",
              "      <td>-1.692673e-03</td>\n",
              "    </tr>\n",
              "    <tr>\n",
              "      <th>mileage</th>\n",
              "      <td>-9.284219e-03</td>\n",
              "    </tr>\n",
              "    <tr>\n",
              "      <th>Region</th>\n",
              "      <td>-1.396505e-02</td>\n",
              "    </tr>\n",
              "    <tr>\n",
              "      <th>transmission</th>\n",
              "      <td>-4.482188e-02</td>\n",
              "    </tr>\n",
              "  </tbody>\n",
              "</table>\n",
              "</div>\n",
              "      <button class=\"colab-df-convert\" onclick=\"convertToInteractive('df-f704fd9d-3508-46d6-9f66-f365f174153d')\"\n",
              "              title=\"Convert this dataframe to an interactive table.\"\n",
              "              style=\"display:none;\">\n",
              "        \n",
              "  <svg xmlns=\"http://www.w3.org/2000/svg\" height=\"24px\"viewBox=\"0 0 24 24\"\n",
              "       width=\"24px\">\n",
              "    <path d=\"M0 0h24v24H0V0z\" fill=\"none\"/>\n",
              "    <path d=\"M18.56 5.44l.94 2.06.94-2.06 2.06-.94-2.06-.94-.94-2.06-.94 2.06-2.06.94zm-11 1L8.5 8.5l.94-2.06 2.06-.94-2.06-.94L8.5 2.5l-.94 2.06-2.06.94zm10 10l.94 2.06.94-2.06 2.06-.94-2.06-.94-.94-2.06-.94 2.06-2.06.94z\"/><path d=\"M17.41 7.96l-1.37-1.37c-.4-.4-.92-.59-1.43-.59-.52 0-1.04.2-1.43.59L10.3 9.45l-7.72 7.72c-.78.78-.78 2.05 0 2.83L4 21.41c.39.39.9.59 1.41.59.51 0 1.02-.2 1.41-.59l7.78-7.78 2.81-2.81c.8-.78.8-2.07 0-2.86zM5.41 20L4 18.59l7.72-7.72 1.47 1.35L5.41 20z\"/>\n",
              "  </svg>\n",
              "      </button>\n",
              "      \n",
              "  <style>\n",
              "    .colab-df-container {\n",
              "      display:flex;\n",
              "      flex-wrap:wrap;\n",
              "      gap: 12px;\n",
              "    }\n",
              "\n",
              "    .colab-df-convert {\n",
              "      background-color: #E8F0FE;\n",
              "      border: none;\n",
              "      border-radius: 50%;\n",
              "      cursor: pointer;\n",
              "      display: none;\n",
              "      fill: #1967D2;\n",
              "      height: 32px;\n",
              "      padding: 0 0 0 0;\n",
              "      width: 32px;\n",
              "    }\n",
              "\n",
              "    .colab-df-convert:hover {\n",
              "      background-color: #E2EBFA;\n",
              "      box-shadow: 0px 1px 2px rgba(60, 64, 67, 0.3), 0px 1px 3px 1px rgba(60, 64, 67, 0.15);\n",
              "      fill: #174EA6;\n",
              "    }\n",
              "\n",
              "    [theme=dark] .colab-df-convert {\n",
              "      background-color: #3B4455;\n",
              "      fill: #D2E3FC;\n",
              "    }\n",
              "\n",
              "    [theme=dark] .colab-df-convert:hover {\n",
              "      background-color: #434B5C;\n",
              "      box-shadow: 0px 1px 3px 1px rgba(0, 0, 0, 0.15);\n",
              "      filter: drop-shadow(0px 1px 2px rgba(0, 0, 0, 0.3));\n",
              "      fill: #FFFFFF;\n",
              "    }\n",
              "  </style>\n",
              "\n",
              "      <script>\n",
              "        const buttonEl =\n",
              "          document.querySelector('#df-f704fd9d-3508-46d6-9f66-f365f174153d button.colab-df-convert');\n",
              "        buttonEl.style.display =\n",
              "          google.colab.kernel.accessAllowed ? 'block' : 'none';\n",
              "\n",
              "        async function convertToInteractive(key) {\n",
              "          const element = document.querySelector('#df-f704fd9d-3508-46d6-9f66-f365f174153d');\n",
              "          const dataTable =\n",
              "            await google.colab.kernel.invokeFunction('convertToInteractive',\n",
              "                                                     [key], {});\n",
              "          if (!dataTable) return;\n",
              "\n",
              "          const docLinkHtml = 'Like what you see? Visit the ' +\n",
              "            '<a target=\"_blank\" href=https://colab.research.google.com/notebooks/data_table.ipynb>data table notebook</a>'\n",
              "            + ' to learn more about interactive tables.';\n",
              "          element.innerHTML = '';\n",
              "          dataTable['output_type'] = 'display_data';\n",
              "          await google.colab.output.renderOutput(dataTable, element);\n",
              "          const docLink = document.createElement('div');\n",
              "          docLink.innerHTML = docLinkHtml;\n",
              "          element.appendChild(docLink);\n",
              "        }\n",
              "      </script>\n",
              "    </div>\n",
              "  </div>\n",
              "  "
            ]
          },
          "metadata": {},
          "execution_count": 32
        }
      ],
      "source": [
        "#  importing necessary libraries\n",
        "from sklearn.discriminant_analysis import LinearDiscriminantAnalysis as LDA\n",
        "\n",
        "# Creating an instance of LDA\n",
        "lda = LDA()\n",
        "lda = lda.fit(x, y)\n",
        "lda_feat = lda.transform(x)\n",
        "\n",
        "#lda coefficients\n",
        "lda.coef_\n",
        "\n",
        "# Since the coefficients are in an array, we need to create a dataframe so that we can extract the name of the columns\n",
        "Important_features = pd.DataFrame(index=x.columns.values, data=lda.coef_[0].T)\n",
        "Important_features.sort_values(0, ascending=False)"
      ]
    },
    {
      "cell_type": "markdown",
      "metadata": {
        "id": "p0C8ihr-cBM9"
      },
      "source": [
        "# **DATA MODELING**"
      ]
    },
    {
      "cell_type": "markdown",
      "metadata": {
        "id": "b40Z7wTtuyaR"
      },
      "source": [
        "**Class imbalance**"
      ]
    },
    {
      "cell_type": "code",
      "execution_count": null,
      "metadata": {
        "id": "ZToopO2gHqLO"
      },
      "outputs": [],
      "source": [
        "#separating features and target\n",
        "x = data [['fuel','seller_type','seats','name','year','owner','engine','km_driven','selling_price']]\n",
        "y = data['sold']"
      ]
    },
    {
      "cell_type": "code",
      "execution_count": null,
      "metadata": {
        "id": "YC6vFEy7uxK5"
      },
      "outputs": [],
      "source": [
        "# Splitting the data to train and test.\n",
        "from sklearn.model_selection import train_test_split \n",
        "x_train, x_test, y_train, y_test = train_test_split(x, y, test_size = 0.3, random_state = 0)"
      ]
    },
    {
      "cell_type": "code",
      "execution_count": null,
      "metadata": {
        "colab": {
          "base_uri": "https://localhost:8080/",
          "height": 309
        },
        "id": "yUs6_N68xik0",
        "outputId": "a329afeb-c3d4-409a-8483-676fbcdd21be"
      },
      "outputs": [
        {
          "output_type": "stream",
          "name": "stdout",
          "text": [
            "[4124 1410]\n"
          ]
        },
        {
          "output_type": "display_data",
          "data": {
            "text/plain": [
              "<Figure size 432x288 with 1 Axes>"
            ],
            "image/png": "[encoded data removed]"
          },
          "metadata": {
            "needs_background": "light"
          }
        }
      ],
      "source": [
        "# Checking the value count of the y variable\n",
        "\n",
        "print(np.bincount(y_train))\n",
        "y_train.value_counts().plot(kind = 'bar')\n",
        "plt.title('sales_count')\n",
        "plt.ylabel('count')\n",
        "plt.xlabel('sold or not');"
      ]
    },
    {
      "cell_type": "markdown",
      "metadata": {
        "id": "O8qoud5_nljW"
      },
      "source": [
        "* There is a great class imbalance in our dataset.We will therefore use smote to correct the imbalance in our dataset"
      ]
    },
    {
      "cell_type": "markdown",
      "metadata": {
        "id": "0OFksTrf1qYg"
      },
      "source": [
        "**SMOTE**"
      ]
    },
    {
      "cell_type": "code",
      "execution_count": null,
      "metadata": {
        "colab": {
          "base_uri": "https://localhost:8080/",
          "height": 279
        },
        "id": "mZVwc12l1sfr",
        "outputId": "f317585b-8290-40a7-dcb2-9303cd36c212"
      },
      "outputs": [
        {
          "output_type": "stream",
          "name": "stdout",
          "text": [
            "[4124 4124]\n"
          ]
        },
        {
          "output_type": "display_data",
          "data": {
            "text/plain": [
              "<Figure size 432x288 with 1 Axes>"
            ],
            "image/png": "[encoded data removed]"
          },
          "metadata": {
            "needs_background": "light"
          }
        }
      ],
      "source": [
        "# Using SMOTE to correct the class imbalance.\n",
        "from imblearn.over_sampling import SMOTE\n",
        "sm = SMOTE()\n",
        "x_res, y_res = sm.fit_resample(x_train, y_train)\n",
        "\n",
        "# Checking for class imbalance\n",
        "print(np.bincount(y_res)) \n",
        "y_res.value_counts().plot(kind = 'bar');\n",
        "# Class imbalance has been rectified."
      ]
    },
    {
      "cell_type": "markdown",
      "metadata": {
        "id": "2TTXsksToEyz"
      },
      "source": [
        "* From the above visualization,Class imbalance has been rectified."
      ]
    },
    {
      "cell_type": "markdown",
      "metadata": {
        "id": "6Akf2iSQxG8J"
      },
      "source": [
        "###1.Logistic Regression Approach"
      ]
    },
    {
      "cell_type": "code",
      "execution_count": null,
      "metadata": {
        "colab": {
          "base_uri": "https://localhost:8080/"
        },
        "id": "Rg2dlFknTOPs",
        "outputId": "92250ac8-40fd-4d79-a252-bc4616c3751f"
      },
      "outputs": [
        {
          "output_type": "execute_result",
          "data": {
            "text/plain": [
              "LogisticRegression()"
            ]
          },
          "metadata": {},
          "execution_count": 37
        }
      ],
      "source": [
        "# Baseline Regression.\n",
        "# Model evaluation \n",
        "\n",
        "from sklearn.linear_model import LogisticRegression\n",
        "Logreg = LogisticRegression()\n",
        "Logreg.fit(x_train, y_train)"
      ]
    },
    {
      "cell_type": "code",
      "execution_count": null,
      "metadata": {
        "colab": {
          "base_uri": "https://localhost:8080/"
        },
        "id": "JlhHbEbLTix5",
        "outputId": "63c0f712-8099-4155-ac2a-c44164ea10b2"
      },
      "outputs": [
        {
          "output_type": "stream",
          "name": "stdout",
          "text": [
            "[[1782    0]\n",
            " [ 590    0]]\n",
            "              precision    recall  f1-score   support\n",
            "\n",
            "           0       0.75      1.00      0.86      1782\n",
            "           1       0.00      0.00      0.00       590\n",
            "\n",
            "    accuracy                           0.75      2372\n",
            "   macro avg       0.38      0.50      0.43      2372\n",
            "weighted avg       0.56      0.75      0.64      2372\n",
            "\n"
          ]
        }
      ],
      "source": [
        "# Model evaluation \n",
        "# predicting y\n",
        "y_pred = Logreg.predict(x_test)\n",
        "from sklearn.metrics import confusion_matrix \n",
        "from sklearn.metrics import classification_report\n",
        "print(confusion_matrix(y_test, y_pred))\n",
        "print(classification_report(y_test, y_pred))"
      ]
    },
    {
      "cell_type": "code",
      "execution_count": null,
      "metadata": {
        "colab": {
          "base_uri": "https://localhost:8080/"
        },
        "id": "AlcIOvuK2dba",
        "outputId": "6d735b83-3766-4ecd-e694-f2ce5e623575"
      },
      "outputs": [
        {
          "output_type": "stream",
          "name": "stdout",
          "text": [
            "[[1011  771]\n",
            " [ 328  262]]\n",
            "              precision    recall  f1-score   support\n",
            "\n",
            "           0       0.76      0.57      0.65      1782\n",
            "           1       0.25      0.44      0.32       590\n",
            "\n",
            "    accuracy                           0.54      2372\n",
            "   macro avg       0.50      0.51      0.49      2372\n",
            "weighted avg       0.63      0.54      0.57      2372\n",
            "\n"
          ]
        }
      ],
      "source": [
        "# Logistic Regression after SMOTE\n",
        "Logreg.fit(x_res, y_res)\n",
        "y_res_pred = Logreg.predict(x_test)\n",
        "print(confusion_matrix(y_test, y_res_pred))\n",
        "print(classification_report(y_test, y_res_pred))\n",
        "# There has been an improvement.\n",
        "# There are 933 true positives, 263 false positives \n",
        "# There are 849 false negatives and 327 false positives, this is an improvement from the logistic regression without treating class imbalance.\n",
        "# There has also been an improvement in the f-1 score of the 'no-sales'"
      ]
    },
    {
      "cell_type": "code",
      "execution_count": null,
      "metadata": {
        "id": "GKxpYjQYAgWR"
      },
      "outputs": [],
      "source": [
        "# Hyper-parameter Tuning with Grid-Search \n",
        "param_grid = [    \n",
        "    {'penalty' : ['l1', 'l2', 'elasticnet', 'none'],\n",
        "    'C' : np.logspace(-4, 4, 20),\n",
        "    'solver' : ['lbfgs','newton-cg','liblinear','sag','saga'],\n",
        "    'max_iter' : [100, 1000,2500, 5000]\n",
        "    }\n",
        "]"
      ]
    },
    {
      "cell_type": "code",
      "execution_count": null,
      "metadata": {
        "colab": {
          "base_uri": "https://localhost:8080/"
        },
        "id": "-i8eoxWaQaDs",
        "outputId": "7b67e7d3-7520-4e73-a6de-8d92477dcd6c"
      },
      "outputs": [
        {
          "output_type": "stream",
          "name": "stdout",
          "text": [
            "Fitting 3 folds for each of 1600 candidates, totalling 4800 fits\n"
          ]
        }
      ],
      "source": [
        "from sklearn.model_selection import GridSearchCV\n",
        "clf = GridSearchCV(Logreg, param_grid = param_grid, cv = 3, verbose=True, n_jobs=-1)\n",
        "best_clf = clf.fit(x_res,y_res)"
      ]
    },
    {
      "cell_type": "code",
      "execution_count": null,
      "metadata": {
        "colab": {
          "base_uri": "https://localhost:8080/"
        },
        "id": "_3XN2K_YBdv3",
        "outputId": "3d8cfe69-7310-4531-b682-072cf12e270a"
      },
      "outputs": [
        {
          "output_type": "execute_result",
          "data": {
            "text/plain": [
              "LogisticRegression(C=0.0006951927961775605, max_iter=1000, solver='newton-cg')"
            ]
          },
          "metadata": {},
          "execution_count": 42
        }
      ],
      "source": [
        "best_clf.best_estimator_"
      ]
    },
    {
      "cell_type": "code",
      "execution_count": null,
      "metadata": {
        "colab": {
          "base_uri": "https://localhost:8080/"
        },
        "id": "CUN68dWYBwk4",
        "outputId": "9b0f28c3-4c06-49af-c6b7-6697f615af74"
      },
      "outputs": [
        {
          "output_type": "stream",
          "name": "stdout",
          "text": [
            "Accuracy - : 0.541\n"
          ]
        }
      ],
      "source": [
        "print (f'Accuracy - : {best_clf.score(x_res,y_res):.3f}')"
      ]
    },
    {
      "cell_type": "markdown",
      "metadata": {
        "id": "qaODVAKWqxIj"
      },
      "source": [
        "###2.Multinomial Naive Bayes\n"
      ]
    },
    {
      "cell_type": "code",
      "execution_count": null,
      "metadata": {
        "colab": {
          "base_uri": "https://localhost:8080/"
        },
        "id": "xFZSMN6mq2nI",
        "outputId": "9c490b60-8208-4f0b-a555-28bf6166902d"
      },
      "outputs": [
        {
          "output_type": "stream",
          "name": "stdout",
          "text": [
            "[[1042  740]\n",
            " [ 334  256]]\n",
            "              precision    recall  f1-score   support\n",
            "\n",
            "           0       0.76      0.58      0.66      1782\n",
            "           1       0.26      0.43      0.32       590\n",
            "\n",
            "    accuracy                           0.55      2372\n",
            "   macro avg       0.51      0.51      0.49      2372\n",
            "weighted avg       0.63      0.55      0.58      2372\n",
            "\n"
          ]
        }
      ],
      "source": [
        "from sklearn.naive_bayes import MultinomialNB\n",
        "from sklearn import metrics\n",
        "model = MultinomialNB()\n",
        "model.fit(x_res, y_res)\n",
        "y_res_pred = model.predict(x_test)\n",
        "print(confusion_matrix(y_test, y_res_pred))\n",
        "print(classification_report(y_test, y_res_pred))\n",
        "# There are 1045 true positives and 255 false positives \n",
        "# There are 737 false positives and 335 false negatives \n",
        "# There is also an imporovement in the f-1 score compared to the Logistic regression, making it a better model."
      ]
    },
    {
      "cell_type": "markdown",
      "metadata": {
        "id": "RBl51_aD0XjI"
      },
      "source": [
        "###3.Naive Bayes - Gaussian Approach"
      ]
    },
    {
      "cell_type": "code",
      "execution_count": null,
      "metadata": {
        "id": "bAegMF-t0QRC"
      },
      "outputs": [],
      "source": [
        "# importing the required libraries\n",
        "from sklearn.model_selection import train_test_split\n",
        "from sklearn import feature_extraction, model_selection, naive_bayes, metrics, svm\n",
        "import numpy as np\n",
        "from sklearn.naive_bayes import BernoulliNB"
      ]
    },
    {
      "cell_type": "code",
      "execution_count": null,
      "metadata": {
        "id": "IXR5m2-L8fuG"
      },
      "outputs": [],
      "source": [
        "# Implementing the solution\n",
        "x = data [['fuel','seller_type','seats','name','year','owner','engine','km_driven','selling_price']]\n",
        "y = data['sold']"
      ]
    },
    {
      "cell_type": "code",
      "execution_count": null,
      "metadata": {
        "colab": {
          "base_uri": "https://localhost:8080/"
        },
        "id": "ABoFXMfMbg0O",
        "outputId": "c9c51a69-f34e-45fa-8332-ff0ea7a94ed1"
      },
      "outputs": [
        {
          "output_type": "stream",
          "name": "stdout",
          "text": [
            "0.16129809617996216 0.0\n",
            "statistics=0.161, p=0.000\n",
            "Sample does not look Gaussian\n"
          ]
        }
      ],
      "source": [
        "# normalty test on our data using shapiro-wilk test\n",
        "# importing the shapiro function\n",
        "# \n",
        "from scipy.stats import shapiro \n",
        "stat, p = shapiro(data)\n",
        "print(stat,p)\n",
        "print('statistics=%.3f, p=%.3f' % (stat,p))\n",
        "\n",
        "alpha = 0.05\n",
        "if p > alpha:\n",
        "  print('Sample looks Gaussian')\n",
        "\n",
        "else:\n",
        "  print('Sample does not look Gaussian');"
      ]
    },
    {
      "cell_type": "code",
      "execution_count": null,
      "metadata": {
        "colab": {
          "base_uri": "https://localhost:8080/"
        },
        "id": "CXXS8ZS0bic6",
        "outputId": "97bd4d47-12c7-44f6-a4ab-f598386dc7c1"
      },
      "outputs": [
        {
          "output_type": "execute_result",
          "data": {
            "text/plain": [
              "array([[1.67003736e-06, 1.67003736e-06, 8.35018679e-06, ...,\n",
              "        2.08420662e-03, 2.42990436e-01, 7.51516811e-01],\n",
              "       [2.02614949e-06, 2.02614949e-06, 1.01307474e-05, ...,\n",
              "        3.03517193e-03, 2.43137938e-01, 7.49675310e-01],\n",
              "       [9.94939077e-06, 3.31646359e-06, 1.65823179e-05, ...,\n",
              "        4.96474599e-03, 4.64304902e-01, 5.24001247e-01],\n",
              "       ...,\n",
              "       [1.97908503e-06, 1.97908503e-06, 9.89542515e-06, ...,\n",
              "        2.46989812e-03, 2.37490204e-01, 7.56010481e-01],\n",
              "       [3.14027942e-06, 3.14027942e-06, 1.57013971e-05, ...,\n",
              "        4.38383007e-03, 7.85069856e-02, 9.10681032e-01],\n",
              "       [3.14027942e-06, 3.14027942e-06, 1.57013971e-05, ...,\n",
              "        4.38383007e-03, 7.85069856e-02, 9.10681032e-01]])"
            ]
          },
          "metadata": {},
          "execution_count": 48
        }
      ],
      "source": [
        "# Normalizing our data since it is not normally distributed\n",
        "# \n",
        "from sklearn.preprocessing import Normalizer\n",
        "\n",
        "# create a normalizer object\n",
        "normalizer = Normalizer(norm='l1')\n",
        "normalizer.fit_transform(x)"
      ]
    },
    {
      "cell_type": "code",
      "execution_count": null,
      "metadata": {
        "id": "c307v7jxY9h3"
      },
      "outputs": [],
      "source": [
        "# Splitting the data to train and test.\n",
        "from sklearn.model_selection import train_test_split \n",
        "x_train, x_test, y_train, y_test = train_test_split(x, y, test_size = 0.3, random_state = 0)"
      ]
    },
    {
      "cell_type": "code",
      "execution_count": null,
      "metadata": {
        "colab": {
          "base_uri": "https://localhost:8080/",
          "height": 309
        },
        "id": "vmEQ2CZcZRQO",
        "outputId": "b7ced845-0e5b-4ae7-92fe-81b398a8ee19"
      },
      "outputs": [
        {
          "output_type": "stream",
          "name": "stdout",
          "text": [
            "[4124 1410]\n"
          ]
        },
        {
          "output_type": "display_data",
          "data": {
            "text/plain": [
              "<Figure size 432x288 with 1 Axes>"
            ],
            "image/png": "[encoded data removed]"
          },
          "metadata": {
            "needs_background": "light"
          }
        }
      ],
      "source": [
        "# Checking the value count of the y variable\n",
        "# Checking the extent of class imbalance in our 'train' data with a visualization of the same.\n",
        "print(np.bincount(y_train))\n",
        "y_train.value_counts().plot(kind = 'bar')\n",
        "plt.title('sales_count')\n",
        "plt.ylabel('count')\n",
        "plt.xlabel('sold or not');"
      ]
    },
    {
      "cell_type": "code",
      "execution_count": null,
      "metadata": {
        "colab": {
          "base_uri": "https://localhost:8080/",
          "height": 279
        },
        "id": "3NlDRroE_oQY",
        "outputId": "2547d863-d3ce-4b81-db74-562dc3669ea5"
      },
      "outputs": [
        {
          "output_type": "stream",
          "name": "stdout",
          "text": [
            "[4124 4124]\n"
          ]
        },
        {
          "output_type": "display_data",
          "data": {
            "text/plain": [
              "<Figure size 432x288 with 1 Axes>"
            ],
            "image/png": "[encoded data removed]"
          },
          "metadata": {
            "needs_background": "light"
          }
        }
      ],
      "source": [
        "# Using SMOTE to correct the class imbalance.\n",
        "from imblearn.over_sampling import SMOTE\n",
        "sm = SMOTE()\n",
        "x_res, y_res = sm.fit_resample(x_train, y_train)\n",
        "\n",
        "# Checking for class imbalance\n",
        "print(np.bincount(y_res)) \n",
        "y_res.value_counts().plot(kind = 'bar');\n",
        "# Class imbalance has been rectified."
      ]
    },
    {
      "cell_type": "code",
      "execution_count": null,
      "metadata": {
        "colab": {
          "base_uri": "https://localhost:8080/"
        },
        "id": "EzW13lHbDyjU",
        "outputId": "b3f137bb-20f7-4f49-8a21-987d94d3dd37"
      },
      "outputs": [
        {
          "output_type": "execute_result",
          "data": {
            "text/plain": [
              "GaussianNB()"
            ]
          },
          "metadata": {},
          "execution_count": 52
        }
      ],
      "source": [
        "# training our model\n",
        "# \n",
        "from sklearn.naive_bayes import GaussianNB\n",
        "\n",
        "gnb = GaussianNB()\n",
        "gnb.fit(x_res, y_res)"
      ]
    },
    {
      "cell_type": "code",
      "execution_count": null,
      "metadata": {
        "id": "fyD90sQMELYz"
      },
      "outputs": [],
      "source": [
        "# making predictions with our trained model\n",
        "# \n",
        "y_pred = gnb.predict(x_test)"
      ]
    },
    {
      "cell_type": "code",
      "execution_count": null,
      "metadata": {
        "colab": {
          "base_uri": "https://localhost:8080/"
        },
        "id": "wtRv4VU-EgGS",
        "outputId": "eb941463-b451-4ab0-9efd-bf7ed739acf3"
      },
      "outputs": [
        {
          "output_type": "execute_result",
          "data": {
            "text/plain": [
              "0.40809443507588533"
            ]
          },
          "metadata": {},
          "execution_count": 54
        }
      ],
      "source": [
        "# Evaluate performance of our model\n",
        "# \n",
        "np.mean(y_pred == y_test)"
      ]
    },
    {
      "cell_type": "code",
      "execution_count": null,
      "metadata": {
        "colab": {
          "base_uri": "https://localhost:8080/"
        },
        "id": "iWUDWW3aExyQ",
        "outputId": "b1bbdac0-244f-4ef6-84c1-6903d0d3c8e6"
      },
      "outputs": [
        {
          "output_type": "stream",
          "name": "stdout",
          "text": [
            "              precision    recall  f1-score   support\n",
            "\n",
            "           0       0.75      0.32      0.45      1782\n",
            "           1       0.25      0.69      0.37       590\n",
            "\n",
            "    accuracy                           0.41      2372\n",
            "   macro avg       0.50      0.50      0.41      2372\n",
            "weighted avg       0.63      0.41      0.43      2372\n",
            "\n",
            "[[ 563 1219]\n",
            " [ 185  405]]\n",
            "Accuracy score:  0.40809443507588533\n"
          ]
        }
      ],
      "source": [
        "# finding the clssification report and confusion matrix\n",
        "# \n",
        "from sklearn.metrics import classification_report, confusion_matrix, accuracy_score\n",
        "\n",
        "print(classification_report(y_test, y_pred))\n",
        "print(confusion_matrix(y_test, y_pred))\n",
        "print('Accuracy score: ', accuracy_score(y_test, y_pred))"
      ]
    },
    {
      "cell_type": "markdown",
      "metadata": {
        "id": "bdSnLeebtQ8o"
      },
      "source": [
        "###4.Decision Tree approach"
      ]
    },
    {
      "cell_type": "markdown",
      "metadata": {
        "id": "45vpI1bi5phN"
      },
      "source": [
        "###5.Random Forest Approach\n",
        "\n",
        "\n"
      ]
    },
    {
      "cell_type": "code",
      "execution_count": null,
      "metadata": {
        "id": "KmbQr28waD9e"
      },
      "outputs": [],
      "source": [
        "accuracies = []"
      ]
    },
    {
      "cell_type": "code",
      "execution_count": null,
      "metadata": {
        "colab": {
          "base_uri": "https://localhost:8080/",
          "height": 279
        },
        "id": "HSbcWc765xP_",
        "outputId": "74521d8d-4115-4a14-d3b5-3f44c29c8a15"
      },
      "outputs": [
        {
          "output_type": "stream",
          "name": "stdout",
          "text": [
            "[4124 4124]\n"
          ]
        },
        {
          "output_type": "display_data",
          "data": {
            "text/plain": [
              "<Figure size 432x288 with 1 Axes>"
            ],
            "image/png": "[encoded data removed]"
          },
          "metadata": {
            "needs_background": "light"
          }
        }
      ],
      "source": [
        "# Random Forest\n",
        "\n",
        "# Seperating features and target\n",
        "X = data [['fuel','seller_type','seats','name','year','owner','engine','km_driven','selling_price']]\n",
        "y = data['sold']\n",
        "\n",
        "# Train using 70% of the data.\n",
        "X_train, X_test, y_train, y_test = train_test_split(X, y, test_size=0.3, random_state=0)\n",
        "\n",
        "\n",
        "#X column names\n",
        "x_cols = data.drop(columns='sold').columns\n",
        "\n",
        "# Using SMOTE to correct the class imbalance.\n",
        "from imblearn.over_sampling import SMOTE\n",
        "sm = SMOTE()\n",
        "x_res, y_res = sm.fit_resample(x_train, y_train)\n",
        "\n",
        "# Checking for class imbalance\n",
        "print(np.bincount(y_res)) \n",
        "y_res.value_counts().plot(kind = 'bar');\n",
        "# Class imbalance has been rectified.\n",
        "\n",
        "#scaling the features\n",
        "from sklearn.preprocessing import StandardScaler\n",
        "sc = StandardScaler()\n",
        "X_train = sc.fit_transform(X_train)\n",
        "X_test = sc.transform(X_test)\n"
      ]
    },
    {
      "cell_type": "code",
      "execution_count": null,
      "metadata": {
        "colab": {
          "base_uri": "https://localhost:8080/",
          "height": 366
        },
        "id": "W2U_bnpEvI_r",
        "outputId": "cdcae56c-607a-4cfa-ee5b-4a07cd05313f"
      },
      "outputs": [
        {
          "output_type": "stream",
          "name": "stdout",
          "text": [
            "[[   0 1782]\n",
            " [   0  590]]\n"
          ]
        },
        {
          "output_type": "display_data",
          "data": {
            "text/plain": [
              "<Figure size 432x288 with 2 Axes>"
            ],
            "image/png": "[encoded data removed]"
          },
          "metadata": {
            "needs_background": "light"
          }
        },
        {
          "output_type": "stream",
          "name": "stdout",
          "text": [
            "Recall:  1.0\n",
            "F-1:  0.398\n",
            "Accuracy:  0.249\n"
          ]
        }
      ],
      "source": [
        "#Fitting the model\n",
        "from sklearn.ensemble import RandomForestClassifier\n",
        "forest = RandomForestClassifier(n_estimators = 100, random_state=0, min_samples_split = 20, max_depth=5)\n",
        "forest = forest.fit(x_res, y_res)\n",
        "\n",
        "# Predict based on the model we've trained\n",
        "y_pred = forest.predict(X_test)\n",
        "\n",
        "\n",
        "from sklearn import metrics\n",
        "\n",
        "#evaluating the model\n",
        "print(metrics.confusion_matrix(y_test, y_pred))\n",
        "metrics.ConfusionMatrixDisplay.from_predictions(y_test, y_pred, display_labels=['negative', 'positive'])\n",
        "\n",
        "plt.show()\n",
        "\n",
        "recall = round(metrics.recall_score(y_test, y_pred), 3)\n",
        "f1 = round(metrics.f1_score(y_test, y_pred), 3)\n",
        "accuracy = round(metrics.accuracy_score(y_test, y_pred), 3)\n",
        "\n",
        "accuracies.append(('First random forest: ', {\n",
        "    'Recall': recall,\n",
        "    'F-1': f1,\n",
        "    'Accuracy': accuracy\n",
        "}))\n",
        "print('Recall: ', recall)\n",
        "print('F-1: ', f1)\n",
        "print('Accuracy: ', accuracy)"
      ]
    },
    {
      "cell_type": "code",
      "execution_count": null,
      "metadata": {
        "colab": {
          "base_uri": "https://localhost:8080/"
        },
        "id": "m1tyY-twv9iY",
        "outputId": "9dfea6c1-1e1b-4915-dbf1-e16c65afa938"
      },
      "outputs": [
        {
          "output_type": "stream",
          "name": "stdout",
          "text": [
            "First random forest: \n",
            "{'Recall': 1.0, 'F-1': 0.398, 'Accuracy': 0.249}\n",
            "\n"
          ]
        }
      ],
      "source": [
        "for accuracy in accuracies:\n",
        "  print(accuracy[0])\n",
        "  print(accuracy[1])\n",
        "  print('')"
      ]
    },
    {
      "cell_type": "markdown",
      "metadata": {
        "id": "LgsTbA17v_HB"
      },
      "source": [
        "Observation:"
      ]
    },
    {
      "cell_type": "code",
      "execution_count": null,
      "metadata": {
        "colab": {
          "base_uri": "https://localhost:8080/",
          "height": 380
        },
        "id": "0Ge64RxJv_ix",
        "outputId": "e2a6a1a4-7666-4823-d581-ca0bb06ded09"
      },
      "outputs": [
        {
          "output_type": "error",
          "ename": "ValueError",
          "evalue": "ignored",
          "traceback": [
            "\u001b[0;31m---------------------------------------------------------------------------\u001b[0m",
            "\u001b[0;31mValueError\u001b[0m                                Traceback (most recent call last)",
            "\u001b[0;32m<ipython-input-60-79b7ee513b87>\u001b[0m in \u001b[0;36m<module>\u001b[0;34m\u001b[0m\n\u001b[1;32m     11\u001b[0m export_graphviz(tree, out_file=dot_data,  \n\u001b[1;32m     12\u001b[0m                 \u001b[0mfilled\u001b[0m\u001b[0;34m=\u001b[0m\u001b[0;32mTrue\u001b[0m\u001b[0;34m,\u001b[0m \u001b[0mrounded\u001b[0m\u001b[0;34m=\u001b[0m\u001b[0;32mTrue\u001b[0m\u001b[0;34m,\u001b[0m\u001b[0;34m\u001b[0m\u001b[0;34m\u001b[0m\u001b[0m\n\u001b[0;32m---> 13\u001b[0;31m                 special_characters=True,feature_names = x_cols)\n\u001b[0m\u001b[1;32m     14\u001b[0m \u001b[0mgraph\u001b[0m \u001b[0;34m=\u001b[0m \u001b[0mpydotplus\u001b[0m\u001b[0;34m.\u001b[0m\u001b[0mgraph_from_dot_data\u001b[0m\u001b[0;34m(\u001b[0m\u001b[0mdot_data\u001b[0m\u001b[0;34m.\u001b[0m\u001b[0mgetvalue\u001b[0m\u001b[0;34m(\u001b[0m\u001b[0;34m)\u001b[0m\u001b[0;34m)\u001b[0m\u001b[0;34m\u001b[0m\u001b[0;34m\u001b[0m\u001b[0m\n\u001b[1;32m     15\u001b[0m \u001b[0mgraph\u001b[0m\u001b[0;34m.\u001b[0m\u001b[0mwrite_png\u001b[0m\u001b[0;34m(\u001b[0m\u001b[0;34m'forest.png'\u001b[0m\u001b[0;34m)\u001b[0m\u001b[0;34m\u001b[0m\u001b[0;34m\u001b[0m\u001b[0m\n",
            "\u001b[0;32m/usr/local/lib/python3.7/dist-packages/sklearn/tree/_export.py\u001b[0m in \u001b[0;36mexport_graphviz\u001b[0;34m(decision_tree, out_file, max_depth, feature_names, class_names, label, filled, leaves_parallel, impurity, node_ids, proportion, rotate, rounded, special_characters, precision, fontname)\u001b[0m\n\u001b[1;32m    887\u001b[0m             \u001b[0mfontname\u001b[0m\u001b[0;34m=\u001b[0m\u001b[0mfontname\u001b[0m\u001b[0;34m,\u001b[0m\u001b[0;34m\u001b[0m\u001b[0;34m\u001b[0m\u001b[0m\n\u001b[1;32m    888\u001b[0m         )\n\u001b[0;32m--> 889\u001b[0;31m         \u001b[0mexporter\u001b[0m\u001b[0;34m.\u001b[0m\u001b[0mexport\u001b[0m\u001b[0;34m(\u001b[0m\u001b[0mdecision_tree\u001b[0m\u001b[0;34m)\u001b[0m\u001b[0;34m\u001b[0m\u001b[0;34m\u001b[0m\u001b[0m\n\u001b[0m\u001b[1;32m    890\u001b[0m \u001b[0;34m\u001b[0m\u001b[0m\n\u001b[1;32m    891\u001b[0m         \u001b[0;32mif\u001b[0m \u001b[0mreturn_string\u001b[0m\u001b[0;34m:\u001b[0m\u001b[0;34m\u001b[0m\u001b[0;34m\u001b[0m\u001b[0m\n",
            "\u001b[0;32m/usr/local/lib/python3.7/dist-packages/sklearn/tree/_export.py\u001b[0m in \u001b[0;36mexport\u001b[0;34m(self, decision_tree)\u001b[0m\n\u001b[1;32m    452\u001b[0m                 raise ValueError(\n\u001b[1;32m    453\u001b[0m                     \u001b[0;34m\"Length of feature_names, %d does not match number of features, %d\"\u001b[0m\u001b[0;34m\u001b[0m\u001b[0;34m\u001b[0m\u001b[0m\n\u001b[0;32m--> 454\u001b[0;31m                     \u001b[0;34m%\u001b[0m \u001b[0;34m(\u001b[0m\u001b[0mlen\u001b[0m\u001b[0;34m(\u001b[0m\u001b[0mself\u001b[0m\u001b[0;34m.\u001b[0m\u001b[0mfeature_names\u001b[0m\u001b[0;34m)\u001b[0m\u001b[0;34m,\u001b[0m \u001b[0mdecision_tree\u001b[0m\u001b[0;34m.\u001b[0m\u001b[0mn_features_in_\u001b[0m\u001b[0;34m)\u001b[0m\u001b[0;34m\u001b[0m\u001b[0;34m\u001b[0m\u001b[0m\n\u001b[0m\u001b[1;32m    455\u001b[0m                 )\n\u001b[1;32m    456\u001b[0m         \u001b[0;31m# each part writes to out_file\u001b[0m\u001b[0;34m\u001b[0m\u001b[0;34m\u001b[0m\u001b[0;34m\u001b[0m\u001b[0m\n",
            "\u001b[0;31mValueError\u001b[0m: Length of feature_names, 15 does not match number of features, 9"
          ]
        }
      ],
      "source": [
        "#visualising a tree of model above\n",
        "from sklearn.tree import export_graphviz\n",
        "from six import StringIO  \n",
        "from IPython.display import Image  \n",
        "import pydotplus\n",
        "\n",
        "dot_data = StringIO()\n",
        "# pick a specific tree from the forest\n",
        "tree = forest.estimators_[1]\n",
        "\n",
        "export_graphviz(tree, out_file=dot_data,  \n",
        "                filled=True, rounded=True,\n",
        "                special_characters=True,feature_names = x_cols)\n",
        "graph = pydotplus.graph_from_dot_data(dot_data.getvalue())  \n",
        "graph.write_png('forest.png')\n",
        "Image(graph.create_png())"
      ]
    },
    {
      "cell_type": "code",
      "execution_count": null,
      "metadata": {
        "id": "kZ3UKl8iws5z"
      },
      "outputs": [],
      "source": [
        "#using grid search to tune hyperparameters\n",
        "#finding best parameter values from range below\n",
        "parameters = {'n_estimators': np.arange(50, 500, 50),\n",
        "              'min_samples_split': np.arange(5, 30, 5),\n",
        "              'max_depth': np.arange(2,7)}\n",
        "rforest = RandomForestClassifier(random_state=0)\n",
        "#finding values\n",
        "search = GridSearchCV(estimator=rforest,param_grid=parameters,scoring='recall')\n",
        "search.fit(x_res,y_res)\n",
        "print(search.best_params_)"
      ]
    },
    {
      "cell_type": "code",
      "execution_count": null,
      "metadata": {
        "id": "flAUOrJRxJrO"
      },
      "outputs": [],
      "source": [
        "#creating model with hyperparameter values observed above and fitting the model\n",
        "forest = RandomForestClassifier(n_estimators = , random_state=0, min_samples_split = , max_depth= )\n",
        "forest = forest.fit(X_train, y_train)\n",
        "\n",
        "# Predict based on the model we've trained\n",
        "y_pred = forest.predict(X_test)\n",
        "\n",
        "#evaluating the model\n",
        "print(metrics.confusion_matrix(y_test, y_pred))\n",
        "metrics.ConfusionMatrixDisplay.from_predictions(y_test, y_pred, display_labels=['negative', 'positive'])\n",
        "\n",
        "plt.show()\n",
        "recall = round(metrics.recall_score(y_test, y_pred), 3)\n",
        "f1 = round(metrics.f1_score(y_test, y_pred), 3)\n",
        "accuracy = round(metrics.accuracy_score(y_test, y_pred), 3)\n",
        "\n",
        "accuracies.append(('Random forest after tuning: ', {\n",
        "    'Recall': recall,\n",
        "    'F-1': f1,\n",
        "    'Accuracy': accuracy\n",
        "}))\n",
        "print('Recall: ', recall)\n",
        "print('F-1: ', f1)\n",
        "print('Accuracy: ', accuracy)"
      ]
    },
    {
      "cell_type": "code",
      "execution_count": null,
      "metadata": {
        "id": "_XC5nElhxqDl"
      },
      "outputs": [],
      "source": [
        "for accuracy in accuracies:\n",
        "  print(accuracy[0])\n",
        "  print(accuracy[1])\n",
        "  print('')"
      ]
    },
    {
      "cell_type": "code",
      "execution_count": null,
      "metadata": {
        "id": "kUORZCerxq6s"
      },
      "outputs": [],
      "source": [
        "#visualising a tree of the fine-tuned hyperparameter model\n",
        "from sklearn.tree import export_graphviz\n",
        "from six import StringIO  \n",
        "from IPython.display import Image  \n",
        "import pydotplus\n",
        "\n",
        "dot_data = StringIO()\n",
        "# pick a specific tree from the forest\n",
        "tree = forest.estimators_[1]\n",
        "\n",
        "export_graphviz(tree, out_file=dot_data,  \n",
        "                filled=True, rounded=True,\n",
        "                special_characters=True,feature_names = x_cols)\n",
        "graph = pydotplus.graph_from_dot_data(dot_data.getvalue())  \n",
        "graph.write_png('forest.png')\n",
        "Image(graph.create_png())"
      ]
    },
    {
      "cell_type": "markdown",
      "metadata": {
        "id": "KDg87Z92yZMA"
      },
      "source": [
        "####Feature importance\n",
        "\n",
        "Feature importance will be identified using the best tree-based model identified"
      ]
    },
    {
      "cell_type": "markdown",
      "metadata": {
        "id": "QD31YFN8VwjK"
      },
      "source": [
        "##6.KNN Approach"
      ]
    },
    {
      "cell_type": "code",
      "execution_count": null,
      "metadata": {
        "id": "BEa5PPxYWFU5"
      },
      "outputs": [],
      "source": [
        "#importing libraries\n",
        "from sklearn.model_selection import GridSearchCV\n",
        "from sklearn import metrics\n",
        "from sklearn.model_selection import train_test_split\n",
        "from sklearn.ensemble import RandomForestClassifier\n",
        "from sklearn.ensemble import GradientBoostingClassifier\n",
        "from sklearn.preprocessing import StandardScaler\n",
        "import matplotlib.pyplot as plt"
      ]
    },
    {
      "cell_type": "code",
      "execution_count": null,
      "metadata": {
        "id": "vJagJyaJWVHZ"
      },
      "outputs": [],
      "source": [
        "accuracies2 = []"
      ]
    },
    {
      "cell_type": "code",
      "execution_count": null,
      "metadata": {
        "id": "9WKPxY3oVzuf"
      },
      "outputs": [],
      "source": [
        "#separating features and target\n",
        "X = data [['fuel','seller_type','seats','name','year','owner','engine','km_driven','selling_price']]\n",
        "y = data['sold']\n",
        "\n",
        "\n",
        "# Train using 70% of the data.\n",
        "X_train, X_test, y_train, y_test = train_test_split(X, y, test_size=0.3, random_state=0)\n",
        "\n",
        "\n",
        "#X column names\n",
        "x_cols = data.drop(columns='sold').columns\n",
        "\n",
        "#scaling the features\n",
        "sc = StandardScaler()\n",
        "X_train = sc.fit_transform(X_train)\n",
        "X_test = sc.transform(X_test)"
      ]
    },
    {
      "cell_type": "code",
      "execution_count": null,
      "metadata": {
        "id": "ENHUirm-WJGE"
      },
      "outputs": [],
      "source": [
        "# Training and Predictions\n",
        "from sklearn.neighbors import KNeighborsClassifier\n",
        "classifier = KNeighborsClassifier(n_neighbors=5)\n",
        "classifier.fit(X_train, y_train)\n",
        "\n",
        "y_pred = classifier.predict(X_test)\n",
        "\n",
        "#evaluating the model\n",
        "print(metrics.confusion_matrix(y_test, y_pred))\n",
        "metrics.ConfusionMatrixDisplay.from_predictions(y_test, y_pred, display_labels=['negative', 'positive'])\n",
        "\n",
        "plt.show()\n",
        "\n",
        "recall = round(metrics.recall_score(y_test, y_pred), 3)\n",
        "f1 = round(metrics.f1_score(y_test, y_pred), 3)\n",
        "accuracy = round(metrics.accuracy_score(y_test, y_pred), 3)\n",
        "precision =round(metrics.precision_score(y_test, y_pred), 3)\n",
        "\n",
        "accuracies2.append(('First knn: ', {\n",
        "    'Recall': recall,\n",
        "    'F-1': f1,\n",
        "    'Accuracy': accuracy\n",
        " \n",
        "    \n",
        "}))\n",
        "print('Recall: ', recall)\n",
        "print('F-1: ', f1)\n",
        "print('Accuracy: ', accuracy)\n"
      ]
    },
    {
      "cell_type": "code",
      "execution_count": null,
      "metadata": {
        "id": "JYF35HOnWaOR"
      },
      "outputs": [],
      "source": [
        "#using grid search to tune hyperparameters\n",
        "#finding best parameter values from range below\n",
        "parameters = {'n_neighbors': np.arange(3, 15, 2),\n",
        "              'metric': ['minkowski', 'euclidean','manhattan']}\n",
        "\n",
        "knn = KNeighborsClassifier()\n",
        "#finding values\n",
        "search = GridSearchCV(estimator=knn,param_grid=parameters,scoring='recall')\n",
        "search.fit(X_train,y_train)\n",
        "print(search.best_params_)"
      ]
    },
    {
      "cell_type": "code",
      "execution_count": null,
      "metadata": {
        "id": "b90iAJotWnro"
      },
      "outputs": [],
      "source": [
        "# Training and Predictions\n",
        "\n",
        "classifier = KNeighborsClassifier(n_neighbors=3, metric='manhattan')\n",
        "classifier.fit(X_train, y_train)\n",
        "\n",
        "y_pred = classifier.predict(X_test)\n",
        "\n",
        "#evaluating the model\n",
        "print(metrics.confusion_matrix(y_test, y_pred))\n",
        "metrics.ConfusionMatrixDisplay.from_predictions(y_test, y_pred, display_labels=['negative', 'positive'])\n",
        "\n",
        "plt.show()\n",
        "\n",
        "recall = round(metrics.recall_score(y_test, y_pred), 3)\n",
        "f1 = round(metrics.f1_score(y_test, y_pred), 3)\n",
        "accuracy = round(metrics.accuracy_score(y_test, y_pred), 3)\n",
        "precision =round(metrics.precision_score(y_test, y_pred), 3)\n",
        "accuracies2.append(('knn after tuning hyperparams: ', {\n",
        "    'Recall': recall,\n",
        "    'F-1': f1,\n",
        "    'Accuracy': accuracy\n",
        "\n",
        "\n",
        "}))\n",
        "print('Recall: ', recall)\n",
        "print('F-1: ', f1)\n",
        "print('Accuracy: ', accuracy)\n"
      ]
    },
    {
      "cell_type": "code",
      "execution_count": null,
      "metadata": {
        "id": "kjTwiw5fWu4w"
      },
      "outputs": [],
      "source": [
        "for accuracy in accuracies2:\n",
        "  print(accuracy[0])\n",
        "  print(accuracy[1])\n",
        "  print('')"
      ]
    },
    {
      "cell_type": "markdown",
      "metadata": {
        "id": "GCY4Fc2N-1X8"
      },
      "source": [
        "##7.SVM Approach"
      ]
    },
    {
      "cell_type": "markdown",
      "metadata": {
        "id": "rtXq1yclhZqb"
      },
      "source": [
        "### Linear Kernel"
      ]
    },
    {
      "cell_type": "code",
      "execution_count": null,
      "metadata": {
        "id": "npu2ip5pU7ad"
      },
      "outputs": [],
      "source": [
        "accuracies = []"
      ]
    },
    {
      "cell_type": "code",
      "execution_count": null,
      "metadata": {
        "id": "il_n48yuIBs9"
      },
      "outputs": [],
      "source": [
        "# Seperating features and target\n",
        "X = data [['fuel','seller_type','seats','name','year','owner','engine','km_driven','selling_price']]\n",
        "y = data['sold']\n"
      ]
    },
    {
      "cell_type": "code",
      "execution_count": null,
      "metadata": {
        "id": "4k_CMKGFIemU"
      },
      "outputs": [],
      "source": [
        "# Splitting the data to train and test.\n",
        "from sklearn.model_selection import train_test_split \n",
        "x_train, x_test, y_train, y_test = train_test_split(x, y, test_size = 0.3, random_state = 0)"
      ]
    },
    {
      "cell_type": "code",
      "execution_count": null,
      "metadata": {
        "id": "WqreoEUbIoBD"
      },
      "outputs": [],
      "source": [
        "# Using SMOTE to correct the class imbalance.\n",
        "from imblearn.over_sampling import SMOTE\n",
        "sm = SMOTE()\n",
        "x_res, y_res = sm.fit_resample(x_train, y_train)\n",
        "\n",
        "# Checking for class imbalance\n",
        "print(np.bincount(y_res)) \n",
        "y_res.value_counts().plot(kind = 'bar');\n",
        "# Class imbalance has been rectified."
      ]
    },
    {
      "cell_type": "code",
      "execution_count": null,
      "metadata": {
        "id": "tM2OWceBIuHT"
      },
      "outputs": [],
      "source": [
        "# Scaling the features\n",
        "from sklearn.preprocessing import StandardScaler\n",
        "sc = StandardScaler()\n",
        "X_train = sc.fit_transform(x_train)\n",
        "X_test = sc.fit_transform(x_test)"
      ]
    },
    {
      "cell_type": "code",
      "execution_count": null,
      "metadata": {
        "id": "xngudeWnRqva"
      },
      "outputs": [],
      "source": [
        "from sklearn.svm import SVC\n",
        "\n",
        "# Fit the model. \n",
        "svc = SVC(kernel= 'linear')\n",
        "model = svc.fit(x_res,y_res)\n",
        "\n",
        "# making prediction\n",
        "y_pred = model.predict(X_test)\n",
        "\n",
        "#Evaluating the model\n",
        "print(metrics.confusion_matrix(y_test, y_pred))\n",
        "metrics.ConfusionMatrixDisplay.from_predictions(y_test, y_pred, display_labels=['negative', 'positive'])\n",
        "\n",
        "plt.show()\n",
        "\n",
        "recall = round(metrics.recall_score(y_test, y_pred), 3)\n",
        "f1 = round(metrics.f1_score(y_test, y_pred), 3)\n",
        "accuracy = round(metrics.accuracy_score(y_test, y_pred), 3)\n",
        "\n",
        "accuracies.append(('SVM Linear kernel 1: ', {\n",
        "    'Recall': recall,\n",
        "    'F-1': f1,\n",
        "    'Accuracy': accuracy\n",
        "}))\n",
        "print('Recall: ', recall)\n",
        "print('F-1: ', f1)\n",
        "print('Accuracy: ', accuracy)"
      ]
    },
    {
      "cell_type": "code",
      "execution_count": null,
      "metadata": {
        "id": "GQMThscZfw3U"
      },
      "outputs": [],
      "source": [
        "#tuning parameters\n",
        "\n",
        "parameters = {'C': [0.01, 0.05, 0.1, 0.5, 1, 5, 10]\n",
        "            }\n",
        "svct = SVC(kernel= 'linear')\n",
        "#finding values\n",
        "search = GridSearchCV(estimator=svct,param_grid=parameters,scoring='recall')\n",
        "search.fit(x_res, y_res )\n",
        "print(search.best_params_)"
      ]
    },
    {
      "cell_type": "code",
      "execution_count": null,
      "metadata": {
        "id": "ngkgwpSbfxxh"
      },
      "outputs": [],
      "source": [
        "# Fit the model with tuned C parameter\n",
        "svc = SVC(kernel= 'linear', C = fill here)\n",
        "model = svc.fit(x_res,y_res)\n",
        "\n",
        "# making prediction\n",
        "y_pred = model.predict(X_test)\n",
        "\n",
        "\n",
        "#Evaluating the model\n",
        "print(metrics.confusion_matrix(y_test, y_pred))\n",
        "metrics.ConfusionMatrixDisplay.from_predictions(y_test, y_pred, display_labels=['negative', 'positive'])\n",
        "\n",
        "plt.show()\n",
        "\n",
        "recall = round(metrics.recall_score(y_test, y_pred), 3)\n",
        "f1 = round(metrics.f1_score(y_test, y_pred), 3)\n",
        "accuracy = round(metrics.accuracy_score(y_test, y_pred), 3)\n",
        "\n",
        "accuracies.append(('SVM linear kernel after tuning hyperparams: ', {\n",
        "    'Recall': recall,\n",
        "    'F-1': f1,\n",
        "    'Accuracy': accuracy\n",
        "}))\n",
        "print('Recall: ', recall)\n",
        "print('F-1: ', f1)\n",
        "print('Accuracy: ', accuracy)"
      ]
    },
    {
      "cell_type": "code",
      "execution_count": null,
      "metadata": {
        "id": "ZLcrJfhRfx5C"
      },
      "outputs": [],
      "source": [
        "for accuracy in accuracies:\n",
        "  print(accuracy[0])\n",
        "  print(accuracy[1])\n",
        "  print('')"
      ]
    },
    {
      "cell_type": "markdown",
      "metadata": {
        "id": "vc6xMYs5g_I5"
      },
      "source": [
        "###Polynomial kernel"
      ]
    },
    {
      "cell_type": "code",
      "execution_count": null,
      "metadata": {
        "id": "Zo2U7TeWfyCf"
      },
      "outputs": [],
      "source": [
        "#polynomial kernel\n",
        "\n",
        "# Building the model \n",
        "polyclassifier = SVC(kernel='poly',degree=2)\n",
        "# Training the model using the training set\n",
        "polyclassifier.fit(x_res, y_res)\n",
        "\n",
        "# making prediction\n",
        "y_pred = polyclassifier.predict(X_test)\n",
        "\n",
        "#Evaluating the model\n",
        "print(metrics.confusion_matrix(y_test, y_pred))\n",
        "metrics.ConfusionMatrixDisplay.from_predictions(y_test, y_pred, display_labels=['negative', 'positive'])\n",
        "\n",
        "plt.show()\n",
        "\n",
        "recall = round(metrics.recall_score(y_test, y_pred), 3)\n",
        "f1 = round(metrics.f1_score(y_test, y_pred), 3)\n",
        "accuracy = round(metrics.accuracy_score(y_test, y_pred), 3)\n",
        "\n",
        "accuracies.append(('SVM polynomial kernel 1: ', {\n",
        "    'Recall': recall,\n",
        "    'F-1': f1,\n",
        "    'Accuracy': accuracy\n",
        "}))\n",
        "print('Recall: ', recall)\n",
        "print('F-1: ', f1)\n",
        "print('Accuracy: ', accuracy)"
      ]
    },
    {
      "cell_type": "code",
      "execution_count": null,
      "metadata": {
        "id": "3wjIydBNirb1"
      },
      "outputs": [],
      "source": [
        "for accuracy in accuracies:\n",
        "  print(accuracy[0])\n",
        "  print(accuracy[1])\n",
        "  print('')"
      ]
    },
    {
      "cell_type": "markdown",
      "metadata": {
        "id": "QFLUBIv3iz-J"
      },
      "source": [
        "Observation"
      ]
    },
    {
      "cell_type": "code",
      "execution_count": null,
      "metadata": {
        "id": "oKnhFsskiym_"
      },
      "outputs": [],
      "source": [
        "#tuning parameters\n",
        "\n",
        "parameters = {'degree': np.arange(2,7)\n",
        "            }\n",
        "svct = SVC(kernel= 'poly')\n",
        "#finding values\n",
        "search = GridSearchCV(estimator=svct,param_grid=parameters,scoring='recall')\n",
        "search.fit(x_res,y_res)\n",
        "print(search.best_params_)"
      ]
    },
    {
      "cell_type": "code",
      "execution_count": null,
      "metadata": {
        "id": "3g7fH55qjBAk"
      },
      "outputs": [],
      "source": [
        "#Testing with a different degree hyperparameter value\n",
        "\n",
        "# Building the model \n",
        "polyclassifier = SVC(kernel='poly',degree=3,gamma='auto')\n",
        "# Training the model using the training set\n",
        "polyclassifier.fit(X_train, y_train)\n",
        "\n",
        "# making prediction\n",
        "y_pred = polyclassifier.predict(X_test)\n",
        "#Evaluating the model\n",
        "print(metrics.confusion_matrix(y_test, y_pred))\n",
        "metrics.ConfusionMatrixDisplay.from_predictions(y_test, y_pred, display_labels=['negative', 'positive'])\n",
        "\n",
        "plt.show()\n",
        "\n",
        "recall = round(metrics.recall_score(y_test, y_pred), 3)\n",
        "f1 = round(metrics.f1_score(y_test, y_pred), 3)\n",
        "accuracy = round(metrics.accuracy_score(y_test, y_pred), 3)\n",
        "\n",
        "accuracies.append(('SVM polynomial kernel after tuning hyperparams: ', {\n",
        "    'Recall': recall,\n",
        "    'F-1': f1,\n",
        "    'Accuracy': accuracy\n",
        "}))\n",
        "print('Recall: ', recall)\n",
        "print('F-1: ', f1)\n",
        "print('Accuracy: ', accuracy)"
      ]
    },
    {
      "cell_type": "code",
      "execution_count": null,
      "metadata": {
        "id": "QzVRZUG9jDLE"
      },
      "outputs": [],
      "source": [
        "for accuracy in accuracies:\n",
        "  print(accuracy[0])\n",
        "  print(accuracy[1])\n",
        "  print('')"
      ]
    },
    {
      "cell_type": "markdown",
      "metadata": {
        "id": "XzbsyDrtjGy9"
      },
      "source": [
        "Observation"
      ]
    },
    {
      "cell_type": "markdown",
      "metadata": {
        "id": "VmZAYNXZjT4j"
      },
      "source": [
        "###Sigmoid Kernel"
      ]
    },
    {
      "cell_type": "code",
      "execution_count": null,
      "metadata": {
        "id": "1o53ssgwjHvn"
      },
      "outputs": [],
      "source": [
        "#sigmoidkernel\n",
        "\n",
        "# Building the model \n",
        "sigclassifier = SVC(kernel='sigmoid')\n",
        "# Training the model using the training set\n",
        "sigclassifier.fit(x_res, y_res)\n",
        "\n",
        "# making prediction\n",
        "y_pred = sigclassifier.predict(X_test)\n",
        "#Evaluating the model\n",
        "print(metrics.confusion_matrix(y_test, y_pred))\n",
        "metrics.ConfusionMatrixDisplay.from_predictions(y_test, y_pred, display_labels=['negative', 'positive'])\n",
        "\n",
        "plt.show()\n",
        "\n",
        "recall = round(metrics.recall_score(y_test, y_pred), 3)\n",
        "f1 = round(metrics.f1_score(y_test, y_pred), 3)\n",
        "accuracy = round(metrics.accuracy_score(y_test, y_pred), 3)\n",
        "\n",
        "accuracies.append(('SVM sigmoid kernel 1: ', {\n",
        "    'Recall': recall,\n",
        "    'F-1': f1,\n",
        "    'Accuracy': accuracy\n",
        "}))\n",
        "print('Recall: ', recall)\n",
        "print('F-1: ', f1)\n",
        "print('Accuracy: ', accuracy)"
      ]
    },
    {
      "cell_type": "code",
      "execution_count": null,
      "metadata": {
        "id": "MtlgJZoojoBL"
      },
      "outputs": [],
      "source": [
        "for accuracy in accuracies:\n",
        "  print(accuracy[0])\n",
        "  print(accuracy[1])\n",
        "  print('')"
      ]
    },
    {
      "cell_type": "markdown",
      "metadata": {
        "id": "t3Ustg0Ajr6C"
      },
      "source": [
        "Observation"
      ]
    },
    {
      "cell_type": "code",
      "execution_count": null,
      "metadata": {
        "id": "HNVOdsK3jvo-"
      },
      "outputs": [],
      "source": [
        "#tuning parameters\n",
        "\n",
        "parameters = {\n",
        "              'C': [0.1, 1, 10, 100],\n",
        "              \n",
        "            }\n",
        "svcs = SVC(kernel= 'sigmoid')\n",
        "#finding values\n",
        "search = GridSearchCV(estimator=svcs,param_grid=parameters,scoring='recall')\n",
        "search.fit(x_res,y_res)\n",
        "print(search.best_params_)"
      ]
    },
    {
      "cell_type": "code",
      "execution_count": null,
      "metadata": {
        "id": "C0l8UjlJj1_G"
      },
      "outputs": [],
      "source": [
        "#sigmoidkernel\n",
        "\n",
        "# Building the model \n",
        "sigclassifier = SVC(kernel='sigmoid', C= fill here)\n",
        "# Training the model using the training set\n",
        "sigclassifier.fit(x_res, y_res)\n",
        "\n",
        "# making prediction\n",
        "y_pred = sigclassifier.predict(X_test)\n",
        "#Evaluating the model\n",
        "print(metrics.confusion_matrix(y_test, y_pred))\n",
        "metrics.ConfusionMatrixDisplay.from_predictions(y_test, y_pred, display_labels=['negative', 'positive'])\n",
        "\n",
        "plt.show()\n",
        "\n",
        "recall = round(metrics.recall_score(y_test, y_pred), 3)\n",
        "f1 = round(metrics.f1_score(y_test, y_pred), 3)\n",
        "accuracy = round(metrics.accuracy_score(y_test, y_pred), 3)\n",
        "\n",
        "accuracies.append(('SVM sigmoid kernel after tuning hyperparams: ', {\n",
        "    'Recall': recall,\n",
        "    'F-1': f1,\n",
        "    'Accuracy': accuracy\n",
        "}))\n",
        "print('Recall: ', recall)\n",
        "print('F-1: ', f1)\n",
        "print('Accuracy: ', accuracy)"
      ]
    },
    {
      "cell_type": "code",
      "execution_count": null,
      "metadata": {
        "id": "Q0XBslknj7is"
      },
      "outputs": [],
      "source": [
        "for accuracy in accuracies:\n",
        "  print(accuracy[0])\n",
        "  print(accuracy[1])\n",
        "  print('')"
      ]
    },
    {
      "cell_type": "markdown",
      "metadata": {
        "id": "TOueiL0Lj_6d"
      },
      "source": [
        "Observation"
      ]
    },
    {
      "cell_type": "markdown",
      "metadata": {
        "id": "Cbz5REjmkER0"
      },
      "source": [
        "###RBF kernel"
      ]
    },
    {
      "cell_type": "code",
      "execution_count": null,
      "metadata": {
        "id": "a8miX6AgkAdJ"
      },
      "outputs": [],
      "source": [
        "#rbf kernel\n",
        "\n",
        "# Building the model \n",
        "rbfclassifier = SVC(kernel='rbf')\n",
        "# Training the model using the training set\n",
        "rbfclassifier.fit(x_res, y_res)\n",
        "\n",
        "# making prediction\n",
        "y_pred = rbfclassifier.predict(X_test)\n",
        "#Evaluating the model\n",
        "print(metrics.confusion_matrix(y_test, y_pred))\n",
        "metrics.ConfusionMatrixDisplay.from_predictions(y_test, y_pred, display_labels=['negative', 'positive'])\n",
        "\n",
        "plt.show()\n",
        "\n",
        "recall = round(metrics.recall_score(y_test, y_pred), 3)\n",
        "f1 = round(metrics.f1_score(y_test, y_pred), 3)\n",
        "accuracy = round(metrics.accuracy_score(y_test, y_pred), 3)\n",
        "\n",
        "accuracies.append(('SVM rbf kernel 1: ', {\n",
        "    'Recall': recall,\n",
        "    'F-1': f1,\n",
        "    'Accuracy': accuracy\n",
        "}))\n",
        "print('Recall: ', recall)\n",
        "print('F-1: ', f1)\n",
        "print('Accuracy: ', accuracy)"
      ]
    },
    {
      "cell_type": "code",
      "execution_count": null,
      "metadata": {
        "id": "M0MS6uhSkewb"
      },
      "outputs": [],
      "source": [
        "for accuracy in accuracies:\n",
        "  print(accuracy[0])\n",
        "  print(accuracy[1])\n",
        "  print('')"
      ]
    },
    {
      "cell_type": "markdown",
      "metadata": {
        "id": "sJt1ZW-mkfce"
      },
      "source": [
        "Observation"
      ]
    },
    {
      "cell_type": "code",
      "execution_count": null,
      "metadata": {
        "id": "eOmtDfxlkfuR"
      },
      "outputs": [],
      "source": [
        "#tuning parameters\n",
        "\n",
        "parameters = {\n",
        "              'C': [0.1, 1, 10, 100],\n",
        "              'gamma': [0.001, 0.01, 0.1, 1, 10]\n",
        "            }\n",
        "svcr = SVC(kernel= 'rbf')\n",
        "#finding values\n",
        "search = GridSearchCV(estimator=svcr,param_grid=parameters,scoring='recall')\n",
        "search.fit(x_res,y_res)\n",
        "print(search.best_params_)"
      ]
    },
    {
      "cell_type": "code",
      "execution_count": null,
      "metadata": {
        "id": "DYYjgp4bk-pc"
      },
      "outputs": [],
      "source": [
        "# Building the model \n",
        "rbfclassifier = SVC(kernel='rbf', gamma = fill here, C= fill here)\n",
        "# Training the model using the training set\n",
        "rbfclassifier.fit(x_res, y_res)\n",
        "\n",
        "# making prediction\n",
        "y_pred = rbfclassifier.predict(X_test)\n",
        "#Evaluating the model\n",
        "print(metrics.confusion_matrix(y_test, y_pred))\n",
        "metrics.ConfusionMatrixDisplay.from_predictions(y_test, y_pred, display_labels=['negative', 'positive'])\n",
        "\n",
        "plt.show()\n",
        "\n",
        "recall = round(metrics.recall_score(y_test, y_pred), 3)\n",
        "f1 = round(metrics.f1_score(y_test, y_pred), 3)\n",
        "accuracy = round(metrics.accuracy_score(y_test, y_pred), 3)\n",
        "\n",
        "accuracies.append(('SVM rbf kernel after tuning hyperparams: ', {\n",
        "    'Recall': recall,\n",
        "    'F-1': f1,\n",
        "    'Accuracy': accuracy\n",
        "}))\n",
        "print('Recall: ', recall)\n",
        "print('F-1: ', f1)\n",
        "print('Accuracy: ', accuracy)"
      ]
    },
    {
      "cell_type": "code",
      "execution_count": null,
      "metadata": {
        "id": "KOHuoviGlLC7"
      },
      "outputs": [],
      "source": [
        "for accuracy in accuracies:\n",
        "  print(accuracy[0])\n",
        "  print(accuracy[1])\n",
        "  print('')"
      ]
    },
    {
      "cell_type": "markdown",
      "metadata": {
        "id": "Mvu8SE1FlLxl"
      },
      "source": [
        "Observation"
      ]
    }
  ],
  "metadata": {
    "accelerator": "TPU",
    "colab": {
      "provenance": []
    },
    "gpuClass": "standard",
    "kernelspec": {
      "display_name": "Python 3",
      "name": "python3"
    },
    "language_info": {
      "name": "python"
    }
  },
  "nbformat": 4,
  "nbformat_minor": 0
}